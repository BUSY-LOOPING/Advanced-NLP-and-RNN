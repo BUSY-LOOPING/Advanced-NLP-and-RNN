{
 "cells": [
  {
   "cell_type": "code",
   "execution_count": 32,
   "id": "daae2c88-a271-494c-90b6-6a039d13bb21",
   "metadata": {
    "tags": []
   },
   "outputs": [],
   "source": [
    "import numpy as np\n",
    "import matplotlib.pyplot as plt\n",
    "\n",
    "from keras.layers import Dense, Layer, Input, Bidirectional, LSTM, GlobalMaxPool1D, Concatenate, Reshape, Lambda\n",
    "from keras.datasets import mnist\n",
    "from keras.models import Model\n",
    "import tensorflow as tf\n",
    "import keras.backend as K"
   ]
  },
  {
   "cell_type": "code",
   "execution_count": 3,
   "id": "346e7fbd-cecf-423d-b749-d506ed9ef3b1",
   "metadata": {
    "tags": []
   },
   "outputs": [
    {
     "name": "stdout",
     "output_type": "stream",
     "text": [
      "Training data size : (60000, 28, 28)\n",
      "Testing data size : (10000, 28, 28)\n"
     ]
    }
   ],
   "source": [
    "(x_train, y_train), (x_test, y_test) = mnist.load_data()\n",
    "print(f'Training data size : {x_train.shape}')\n",
    "print(f'Testing data size : {x_test.shape}')"
   ]
  },
  {
   "cell_type": "code",
   "execution_count": 49,
   "id": "5f35102d-ccfb-45a8-accf-8cb3125104a2",
   "metadata": {
    "tags": []
   },
   "outputs": [],
   "source": [
    "x_train = x_train.astype(np.float32)\n",
    "x_test = x_test.astype(np.float32)"
   ]
  },
  {
   "cell_type": "code",
   "execution_count": 50,
   "id": "56782ede-dd3c-4461-8b9c-7e941e87c411",
   "metadata": {
    "tags": []
   },
   "outputs": [],
   "source": [
    "x_train /= 255\n",
    "x_test /= 255"
   ]
  },
  {
   "cell_type": "code",
   "execution_count": 51,
   "id": "dd482ebe-aec8-44aa-a0a2-3e92b54057a5",
   "metadata": {
    "tags": []
   },
   "outputs": [
    {
     "data": {
      "text/plain": [
       "1.0"
      ]
     },
     "execution_count": 51,
     "metadata": {},
     "output_type": "execute_result"
    }
   ],
   "source": [
    "x_train.max()"
   ]
  },
  {
   "cell_type": "code",
   "execution_count": 52,
   "id": "82ad1ac9-265a-4048-90a7-318cbfa5675b",
   "metadata": {
    "tags": []
   },
   "outputs": [],
   "source": [
    "class Rotate90Layer(Layer):\n",
    "    def __init__(self, **kwargs):\n",
    "        super(Rotate90Layer, self).__init__(**kwargs)\n",
    "        \n",
    "    def build(self, input_shape):\n",
    "        super(Rotate90Layer, self).build(input_shape)\n",
    "        \n",
    "    def call(self, inputs):\n",
    "        return tf.image.rot90(inputs)\n",
    "        \n",
    "    # def compute_output_shape(self, input_shape):\n",
    "    #     return (input_shape[0], input_shape[2], input_shape[1])"
   ]
  },
  {
   "cell_type": "code",
   "execution_count": 53,
   "id": "68312036-2759-443d-9001-f209d56f0793",
   "metadata": {
    "tags": []
   },
   "outputs": [
    {
     "data": {
      "image/png": "[encoded data removed]",
      "text/plain": [
       "<Figure size 800x400 with 2 Axes>"
      ]
     },
     "metadata": {},
     "output_type": "display_data"
    }
   ],
   "source": [
    "sample_image = x_train[0]\n",
    "\n",
    "# Add batch dimension to the sample image\n",
    "sample_image = tf.expand_dims(sample_image, axis=0)\n",
    "\n",
    "# Define a model with the Rotate90Layer\n",
    "model = tf.keras.Sequential([\n",
    "    Rotate90Layer(input_shape=(28, 28, 1))\n",
    "])\n",
    "\n",
    "# Get the rotated image\n",
    "rotated_image = model(sample_image)\n",
    "\n",
    "# Remove the batch dimension\n",
    "rotated_image = tf.squeeze(rotated_image, axis=0)\n",
    "\n",
    "# Plot the original and rotated images\n",
    "plt.figure(figsize=(8, 4))\n",
    "\n",
    "plt.subplot(1, 2, 1)\n",
    "plt.title(\"Original Image\")\n",
    "plt.imshow(tf.squeeze(sample_image), cmap='gray')\n",
    "plt.axis('off')\n",
    "\n",
    "plt.subplot(1, 2, 2)\n",
    "plt.title(\"Rotated Image\")\n",
    "plt.imshow(tf.squeeze(rotated_image), cmap='gray')\n",
    "plt.axis('off')\n",
    "\n",
    "plt.show()"
   ]
  },
  {
   "cell_type": "code",
   "execution_count": 59,
   "id": "441eb573-abf4-43a6-abf6-77cfd44e21b1",
   "metadata": {
    "tags": []
   },
   "outputs": [
    {
     "name": "stdout",
     "output_type": "stream",
     "text": [
      "Model: \"upper\"\n",
      "_________________________________________________________________\n",
      " Layer (type)                Output Shape              Param #   \n",
      "=================================================================\n",
      " input_16 (InputLayer)       [(None, 28, 28, 1)]       0         \n",
      "                                                                 \n",
      " reshape_10 (Reshape)        (None, 28, 28)            0         \n",
      "                                                                 \n",
      " bidirectional_10 (Bidirecti  (None, 28, 256)          160768    \n",
      " onal)                                                           \n",
      "                                                                 \n",
      " global_max_pooling1d_8 (Glo  (None, 256)              0         \n",
      " balMaxPooling1D)                                                \n",
      "                                                                 \n",
      "=================================================================\n",
      "Total params: 160,768\n",
      "Trainable params: 160,768\n",
      "Non-trainable params: 0\n",
      "_________________________________________________________________\n"
     ]
    }
   ],
   "source": [
    "i = Input(shape=(28, 28, 1))\n",
    "x = Reshape((28, 28)) (i)\n",
    "x = Bidirectional(LSTM(128, return_sequences=True)) (x)\n",
    "x = GlobalMaxPool1D() (x)\n",
    "\n",
    "upper = Model(i, x, name='upper')\n",
    "upper.summary()"
   ]
  },
  {
   "cell_type": "code",
   "execution_count": null,
   "id": "b9b43498-cff0-4604-9fcd-5bfb97d3d67d",
   "metadata": {},
   "outputs": [],
   "source": [
    "# permutor = Lambda(LSTM(lambda t : K.permute_dimensions(t, pattern=(0, 2, 1))))"
   ]
  },
  {
   "cell_type": "code",
   "execution_count": 60,
   "id": "0b9e6575-d73e-440f-9d21-1c9dbe056301",
   "metadata": {
    "tags": []
   },
   "outputs": [
    {
     "name": "stdout",
     "output_type": "stream",
     "text": [
      "Model: \"lower\"\n",
      "_________________________________________________________________\n",
      " Layer (type)                Output Shape              Param #   \n",
      "=================================================================\n",
      " input_17 (InputLayer)       [(None, 28, 28, 1)]       0         \n",
      "                                                                 \n",
      " rotate90_layer_16 (Rotate90  (None, 28, 28, 1)        0         \n",
      " Layer)                                                          \n",
      "                                                                 \n",
      " reshape_11 (Reshape)        (None, 28, 28)            0         \n",
      "                                                                 \n",
      " bidirectional_11 (Bidirecti  (None, 28, 256)          160768    \n",
      " onal)                                                           \n",
      "                                                                 \n",
      " global_max_pooling1d_9 (Glo  (None, 256)              0         \n",
      " balMaxPooling1D)                                                \n",
      "                                                                 \n",
      "=================================================================\n",
      "Total params: 160,768\n",
      "Trainable params: 160,768\n",
      "Non-trainable params: 0\n",
      "_________________________________________________________________\n"
     ]
    }
   ],
   "source": [
    "i = Input(shape=(28, 28, 1))\n",
    "x = Rotate90Layer() (i)\n",
    "x = Reshape((28, 28)) (x)\n",
    "x = Bidirectional(LSTM(128, return_sequences=True)) (x)\n",
    "x = GlobalMaxPool1D() (x)\n",
    "\n",
    "lower = Model(i, x, name='lower')\n",
    "lower.summary()"
   ]
  },
  {
   "cell_type": "code",
   "execution_count": 61,
   "id": "2df15e82-b9b6-4f10-9d57-a4fb8723f239",
   "metadata": {
    "tags": []
   },
   "outputs": [
    {
     "name": "stdout",
     "output_type": "stream",
     "text": [
      "Model: \"model_7\"\n",
      "__________________________________________________________________________________________________\n",
      " Layer (type)                   Output Shape         Param #     Connected to                     \n",
      "==================================================================================================\n",
      " input_18 (InputLayer)          [(None, 28, 28, 1)]  0           []                               \n",
      "                                                                                                  \n",
      " upper (Functional)             (None, 256)          160768      ['input_18[0][0]']               \n",
      "                                                                                                  \n",
      " lower (Functional)             (None, 256)          160768      ['input_18[0][0]']               \n",
      "                                                                                                  \n",
      " concatenate_5 (Concatenate)    (None, 512)          0           ['upper[0][0]',                  \n",
      "                                                                  'lower[0][0]']                  \n",
      "                                                                                                  \n",
      " dense_4 (Dense)                (None, 10)           5130        ['concatenate_5[0][0]']          \n",
      "                                                                                                  \n",
      "==================================================================================================\n",
      "Total params: 326,666\n",
      "Trainable params: 326,666\n",
      "Non-trainable params: 0\n",
      "__________________________________________________________________________________________________\n"
     ]
    }
   ],
   "source": [
    "i = Input(shape=(28, 28, 1))\n",
    "upper_output = upper(i)\n",
    "lower_output = lower(i)\n",
    "x = Concatenate()([upper_output, lower_output])\n",
    "x = Dense(10, activation='softmax') (x)\n",
    "\n",
    "model = Model(i, x)\n",
    "model.summary()"
   ]
  },
  {
   "cell_type": "code",
   "execution_count": 62,
   "id": "eac0457d-13b1-4fba-8258-d58dc6c4dead",
   "metadata": {
    "tags": []
   },
   "outputs": [],
   "source": [
    "model.compile(\n",
    "    loss='sparse_categorical_crossentropy',\n",
    "    optimizer='adam',\n",
    "    metrics=['accuracy']\n",
    ")"
   ]
  },
  {
   "cell_type": "code",
   "execution_count": 63,
   "id": "ef1973bf-ae2c-4772-9353-f64007c6f154",
   "metadata": {
    "tags": []
   },
   "outputs": [
    {
     "name": "stdout",
     "output_type": "stream",
     "text": [
      "Epoch 1/10\n",
      "1875/1875 [==============================] - 70s 34ms/step - loss: 0.2153 - accuracy: 0.9359 - val_loss: 0.0791 - val_accuracy: 0.9769\n",
      "Epoch 2/10\n",
      "1875/1875 [==============================] - 63s 33ms/step - loss: 0.0800 - accuracy: 0.9748 - val_loss: 0.0696 - val_accuracy: 0.9789\n",
      "Epoch 3/10\n",
      "1875/1875 [==============================] - 61s 32ms/step - loss: 0.0572 - accuracy: 0.9818 - val_loss: 0.0654 - val_accuracy: 0.9794\n",
      "Epoch 4/10\n",
      "1875/1875 [==============================] - 61s 32ms/step - loss: 0.0457 - accuracy: 0.9856 - val_loss: 0.0483 - val_accuracy: 0.9844\n",
      "Epoch 5/10\n",
      "1875/1875 [==============================] - 61s 33ms/step - loss: 0.0375 - accuracy: 0.9885 - val_loss: 0.0454 - val_accuracy: 0.9847\n",
      "Epoch 6/10\n",
      "1875/1875 [==============================] - 60s 32ms/step - loss: 0.0307 - accuracy: 0.9902 - val_loss: 0.0396 - val_accuracy: 0.9868\n",
      "Epoch 7/10\n",
      "1875/1875 [==============================] - 55s 29ms/step - loss: 0.0260 - accuracy: 0.9917 - val_loss: 0.0428 - val_accuracy: 0.9872\n",
      "Epoch 8/10\n",
      "1875/1875 [==============================] - 51s 27ms/step - loss: 0.0210 - accuracy: 0.9937 - val_loss: 0.0367 - val_accuracy: 0.9885\n",
      "Epoch 9/10\n",
      "1875/1875 [==============================] - 48s 26ms/step - loss: 0.0205 - accuracy: 0.9937 - val_loss: 0.0348 - val_accuracy: 0.9892\n",
      "Epoch 10/10\n",
      "1875/1875 [==============================] - 49s 26ms/step - loss: 0.0155 - accuracy: 0.9951 - val_loss: 0.0447 - val_accuracy: 0.9861\n"
     ]
    }
   ],
   "source": [
    "r = model.fit(\n",
    "    x_train, y_train,\n",
    "    validation_data=(x_test, y_test),\n",
    "    workers=8,\n",
    "    batch_size=32,\n",
    "    epochs=10\n",
    ")"
   ]
  },
  {
   "cell_type": "code",
   "execution_count": 64,
   "id": "c58c25a7-8fa2-4365-bede-e22b68e390a6",
   "metadata": {
    "tags": []
   },
   "outputs": [
    {
     "data": {
      "text/plain": [
       "<matplotlib.legend.Legend at 0x21ab0ba28c0>"
      ]
     },
     "execution_count": 64,
     "metadata": {},
     "output_type": "execute_result"
    },
    {
     "data": {
      "image/png": "[encoded data removed]",
      "text/plain": [
       "<Figure size 640x480 with 1 Axes>"
      ]
     },
     "metadata": {},
     "output_type": "display_data"
    }
   ],
   "source": [
    "plt.plot(r.history['loss'], label='loss')\n",
    "plt.plot(r.history['val_loss'], label='val_loss')\n",
    "plt.legend()"
   ]
  },
  {
   "cell_type": "code",
   "execution_count": 65,
   "id": "369cee9e-d2a6-4219-bac9-01611c78042a",
   "metadata": {
    "tags": []
   },
   "outputs": [
    {
     "data": {
      "text/plain": [
       "<matplotlib.legend.Legend at 0x21ac0873a60>"
      ]
     },
     "execution_count": 65,
     "metadata": {},
     "output_type": "execute_result"
    },
    {
     "data": {
      "image/png": "[encoded data removed]",
      "text/plain": [
       "<Figure size 640x480 with 1 Axes>"
      ]
     },
     "metadata": {},
     "output_type": "display_data"
    }
   ],
   "source": [
    "plt.plot(r.history['accuracy'], label='accuracy')\n",
    "plt.plot(r.history['val_accuracy'], label='val_accuracy')\n",
    "plt.legend()"
   ]
  },
  {
   "cell_type": "code",
   "execution_count": null,
   "id": "16278a0b-bde2-4363-98c8-690b0aa44749",
   "metadata": {},
   "outputs": [],
   "source": []
  }
 ],
 "metadata": {
  "kernelspec": {
   "display_name": "data_science",
   "language": "python",
   "name": "data_science"
  },
  "language_info": {
   "codemirror_mode": {
    "name": "ipython",
    "version": 3
   },
   "file_extension": ".py",
   "mimetype": "text/x-python",
   "name": "python",
   "nbconvert_exporter": "python",
   "pygments_lexer": "ipython3",
   "version": "3.10.13"
  }
 },
 "nbformat": 4,
 "nbformat_minor": 5
}
