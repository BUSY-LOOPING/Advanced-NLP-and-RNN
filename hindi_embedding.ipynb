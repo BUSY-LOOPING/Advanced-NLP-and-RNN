{
 "cells": [
  {
   "cell_type": "code",
   "execution_count": 12,
   "id": "24b6e0a8-89e1-4764-873a-5487b9ed675c",
   "metadata": {
    "tags": []
   },
   "outputs": [],
   "source": [
    "import os\n",
    "import io\n",
    "\n",
    "import fasttext\n",
    "import fasttext.util\n",
    "import numpy as np\n",
    "\n",
    "from keras.models import Model\n",
    "from keras.layers import Dense, Embedding, Input, LSTM"
   ]
  },
  {
   "cell_type": "code",
   "execution_count": null,
   "id": "5ad7cc8c-739f-4a7e-9c06-00b64daafd6f",
   "metadata": {
    "scrolled": true,
    "tags": []
   },
   "outputs": [],
   "source": [
    "# fasttext.util.download_model('hi', if_exists='ignore')"
   ]
  },
  {
   "cell_type": "code",
   "execution_count": 8,
   "id": "4a8dbcad-804e-4853-aa50-77867fcf7012",
   "metadata": {
    "tags": []
   },
   "outputs": [],
   "source": [
    "ft = fasttext.load_model('cc.hi.300.bin')"
   ]
  },
  {
   "cell_type": "code",
   "execution_count": 9,
   "id": "8caf4772-ed51-45ea-b71f-07453f96acc6",
   "metadata": {
    "tags": []
   },
   "outputs": [
    {
     "data": {
      "text/plain": [
       "300"
      ]
     },
     "execution_count": 9,
     "metadata": {},
     "output_type": "execute_result"
    }
   ],
   "source": [
    "ft.get_dimension()"
   ]
  },
  {
   "cell_type": "code",
   "execution_count": 10,
   "id": "17673bc7-1e49-4afa-bfa7-d8a5b233b853",
   "metadata": {
    "tags": []
   },
   "outputs": [
    {
     "data": {
      "text/plain": [
       "(300,)"
      ]
     },
     "execution_count": 10,
     "metadata": {},
     "output_type": "execute_result"
    }
   ],
   "source": [
    "ft.get_word_vector('नमस्ते').shape"
   ]
  },
  {
   "cell_type": "code",
   "execution_count": 11,
   "id": "97551998-768c-4e88-bdc7-c30411897294",
   "metadata": {
    "tags": []
   },
   "outputs": [
    {
     "data": {
      "text/plain": [
       "[(0.7066582441329956, 'नमस्ते.अब'),\n",
       " (0.7001375555992126, 'नमस्तेमैं'),\n",
       " (0.6912519931793213, 'नमस्तेजी'),\n",
       " (0.69012451171875, 'नमस्ते.सभी'),\n",
       " (0.6856528520584106, 'pmनमस्ते'),\n",
       " (0.6755236387252808, 'PMनमस्ते'),\n",
       " (0.6740184426307678, 'जीनमस्ते'),\n",
       " (0.6710901260375977, 'AMनमस्ते'),\n",
       " (0.6703984141349792, 'amनमस्ते'),\n",
       " (0.6525899171829224, 'नमस्तश्यै')]"
      ]
     },
     "execution_count": 11,
     "metadata": {},
     "output_type": "execute_result"
    }
   ],
   "source": [
    "ft.get_nearest_neighbors('नमस्ते')"
   ]
  },
  {
   "cell_type": "code",
   "execution_count": 13,
   "id": "5331701c-7605-4fbf-9aea-959cd6b3dd3f",
   "metadata": {
    "tags": []
   },
   "outputs": [
    {
     "data": {
      "text/plain": [
       "50"
      ]
     },
     "execution_count": 13,
     "metadata": {},
     "output_type": "execute_result"
    }
   ],
   "source": [
    "fasttext.util.reduce_model(ft, 50)\n",
    "ft.get_dimension()"
   ]
  },
  {
   "cell_type": "code",
   "execution_count": 14,
   "id": "15c18ac7-89be-46b7-b5d1-4e728838fa88",
   "metadata": {
    "tags": []
   },
   "outputs": [],
   "source": [
    "ft.save_model('cc.hi.50.bin')"
   ]
  },
  {
   "cell_type": "code",
   "execution_count": 15,
   "id": "ca9180f8-1e8c-4514-93cc-ca43c781c769",
   "metadata": {
    "tags": []
   },
   "outputs": [],
   "source": [
    "def load_vectors(fname):\n",
    "    fin = io.open(fname, 'r', encoding='utf-8', newline='\\n', errors='ignore')\n",
    "    n, d = map(int, fin.readline().split())\n",
    "    data = {}\n",
    "    for line in fin:\n",
    "        tokens = line.rstrip().split(' ')\n",
    "        data[tokens[0]] = map(float, tokens[1:])\n",
    "    return data"
   ]
  },
  {
   "cell_type": "code",
   "execution_count": 19,
   "id": "d65eedc2-45ab-4af5-b3ba-f48b11eabcb6",
   "metadata": {
    "tags": []
   },
   "outputs": [
    {
     "name": "stdout",
     "output_type": "stream",
     "text": [
      "Number of words in dictionary: 1876665\n"
     ]
    }
   ],
   "source": [
    "# Initialize an empty dictionary to hold the word vectors\n",
    "word2vec = {}\n",
    "\n",
    "# Iterate through all words in the model's vocabulary\n",
    "for word in ft.get_words():\n",
    "    # Get the vector for the word\n",
    "    word_vector = ft.get_word_vector(word)\n",
    "    # Store the word and its vector in the dictionary\n",
    "    word2vec[word] = word_vector\n",
    "\n",
    "# Verify by printing the number of words and a sample word vector\n",
    "print(f\"Number of words in dictionary: {len(word2vec)}\")"
   ]
  },
  {
   "cell_type": "code",
   "execution_count": null,
   "id": "cd90f7e7-d3e8-4822-84fc-64604314f2f0",
   "metadata": {},
   "outputs": [],
   "source": []
  }
 ],
 "metadata": {
  "kernelspec": {
   "display_name": "data_science",
   "language": "python",
   "name": "data_science"
  },
  "language_info": {
   "codemirror_mode": {
    "name": "ipython",
    "version": 3
   },
   "file_extension": ".py",
   "mimetype": "text/x-python",
   "name": "python",
   "nbconvert_exporter": "python",
   "pygments_lexer": "ipython3",
   "version": "3.10.13"
  }
 },
 "nbformat": 4,
 "nbformat_minor": 5
}
