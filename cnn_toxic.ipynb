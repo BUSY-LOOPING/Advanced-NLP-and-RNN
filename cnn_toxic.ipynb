{
 "cells": [
  {
   "cell_type": "code",
   "execution_count": 1,
   "id": "c6570af4-d7a3-4d24-b383-5ff8da98e7b2",
   "metadata": {
    "tags": []
   },
   "outputs": [],
   "source": [
    "import os\n",
    "import sys\n",
    "import numpy as np\n",
    "import matplotlib.pyplot as plt\n",
    "import pandas as pd\n",
    "\n",
    "from keras.preprocessing.text import Tokenizer\n",
    "from keras_preprocessing.sequence import pad_sequences\n",
    "from keras.layers import Dense, Input, GlobalMaxPooling1D, Conv1D, MaxPooling1D, Embedding\n",
    "from keras.models import Model\n",
    "\n",
    "from sklearn.metrics import roc_auc_score"
   ]
  },
  {
   "cell_type": "code",
   "execution_count": 2,
   "id": "f5cdf7f4-1c69-4c29-8d27-1942856ae66f",
   "metadata": {
    "tags": []
   },
   "outputs": [],
   "source": [
    "MAX_SEQUENCE_LENGTH = 100\n",
    "MAX_VOCAB_SIZE = 20000\n",
    "EMBEDDING_DIM = 100\n",
    "VALIDATION_SPLIT = 0.2\n",
    "BATCH_SIZE = 128\n",
    "EPOCHS = 10"
   ]
  },
  {
   "cell_type": "code",
   "execution_count": 4,
   "id": "79872cbf-8f59-4351-9601-c77e49521232",
   "metadata": {},
   "outputs": [
    {
     "name": "stdout",
     "output_type": "stream",
     "text": [
      "Found 400000 word vectors.\n"
     ]
    }
   ],
   "source": [
    "word2vec = {}\n",
    "with open(os.path.join('glove', 'glove.6B', 'glove.6B.100d.txt'), encoding=\"utf-8\") as f :\n",
    "    for line in f :\n",
    "        values = line.split()\n",
    "        word = values[0]\n",
    "        vec = np.asarray(values[1:], dtype=np.float32)\n",
    "        word2vec[word] = vec\n",
    "print(f'Found {len(word2vec)} word vectors.')"
   ]
  },
  {
   "cell_type": "code",
   "execution_count": 5,
   "id": "9aec8dc0-0c4b-4a35-88f3-6b3cd6a0257e",
   "metadata": {
    "tags": []
   },
   "outputs": [
    {
     "data": {
      "text/html": [
       "<div>\n",
       "<style scoped>\n",
       "    .dataframe tbody tr th:only-of-type {\n",
       "        vertical-align: middle;\n",
       "    }\n",
       "\n",
       "    .dataframe tbody tr th {\n",
       "        vertical-align: top;\n",
       "    }\n",
       "\n",
       "    .dataframe thead th {\n",
       "        text-align: right;\n",
       "    }\n",
       "</style>\n",
       "<table border=\"1\" class=\"dataframe\">\n",
       "  <thead>\n",
       "    <tr style=\"text-align: right;\">\n",
       "      <th></th>\n",
       "      <th>id</th>\n",
       "      <th>comment_text</th>\n",
       "      <th>toxic</th>\n",
       "      <th>severe_toxic</th>\n",
       "      <th>obscene</th>\n",
       "      <th>threat</th>\n",
       "      <th>insult</th>\n",
       "      <th>identity_hate</th>\n",
       "    </tr>\n",
       "  </thead>\n",
       "  <tbody>\n",
       "    <tr>\n",
       "      <th>0</th>\n",
       "      <td>0000997932d777bf</td>\n",
       "      <td>Explanation\\nWhy the edits made under my usern...</td>\n",
       "      <td>0</td>\n",
       "      <td>0</td>\n",
       "      <td>0</td>\n",
       "      <td>0</td>\n",
       "      <td>0</td>\n",
       "      <td>0</td>\n",
       "    </tr>\n",
       "    <tr>\n",
       "      <th>1</th>\n",
       "      <td>000103f0d9cfb60f</td>\n",
       "      <td>D'aww! He matches this background colour I'm s...</td>\n",
       "      <td>0</td>\n",
       "      <td>0</td>\n",
       "      <td>0</td>\n",
       "      <td>0</td>\n",
       "      <td>0</td>\n",
       "      <td>0</td>\n",
       "    </tr>\n",
       "    <tr>\n",
       "      <th>2</th>\n",
       "      <td>000113f07ec002fd</td>\n",
       "      <td>Hey man, I'm really not trying to edit war. It...</td>\n",
       "      <td>0</td>\n",
       "      <td>0</td>\n",
       "      <td>0</td>\n",
       "      <td>0</td>\n",
       "      <td>0</td>\n",
       "      <td>0</td>\n",
       "    </tr>\n",
       "    <tr>\n",
       "      <th>3</th>\n",
       "      <td>0001b41b1c6bb37e</td>\n",
       "      <td>\"\\nMore\\nI can't make any real suggestions on ...</td>\n",
       "      <td>0</td>\n",
       "      <td>0</td>\n",
       "      <td>0</td>\n",
       "      <td>0</td>\n",
       "      <td>0</td>\n",
       "      <td>0</td>\n",
       "    </tr>\n",
       "    <tr>\n",
       "      <th>4</th>\n",
       "      <td>0001d958c54c6e35</td>\n",
       "      <td>You, sir, are my hero. Any chance you remember...</td>\n",
       "      <td>0</td>\n",
       "      <td>0</td>\n",
       "      <td>0</td>\n",
       "      <td>0</td>\n",
       "      <td>0</td>\n",
       "      <td>0</td>\n",
       "    </tr>\n",
       "  </tbody>\n",
       "</table>\n",
       "</div>"
      ],
      "text/plain": [
       "                 id                                       comment_text  toxic  \\\n",
       "0  0000997932d777bf  Explanation\\nWhy the edits made under my usern...      0   \n",
       "1  000103f0d9cfb60f  D'aww! He matches this background colour I'm s...      0   \n",
       "2  000113f07ec002fd  Hey man, I'm really not trying to edit war. It...      0   \n",
       "3  0001b41b1c6bb37e  \"\\nMore\\nI can't make any real suggestions on ...      0   \n",
       "4  0001d958c54c6e35  You, sir, are my hero. Any chance you remember...      0   \n",
       "\n",
       "   severe_toxic  obscene  threat  insult  identity_hate  \n",
       "0             0        0       0       0              0  \n",
       "1             0        0       0       0              0  \n",
       "2             0        0       0       0              0  \n",
       "3             0        0       0       0              0  \n",
       "4             0        0       0       0              0  "
      ]
     },
     "execution_count": 5,
     "metadata": {},
     "output_type": "execute_result"
    }
   ],
   "source": [
    "train_df = pd.read_csv(os.path.join('data', 'toxic_comments', 'train.csv'))\n",
    "train_df.head()"
   ]
  },
  {
   "cell_type": "code",
   "execution_count": 6,
   "id": "2531fb1a-e1e0-4737-832e-74cd4ab9754c",
   "metadata": {
    "tags": []
   },
   "outputs": [
    {
     "data": {
      "text/plain": [
       "id               0\n",
       "comment_text     0\n",
       "toxic            0\n",
       "severe_toxic     0\n",
       "obscene          0\n",
       "threat           0\n",
       "insult           0\n",
       "identity_hate    0\n",
       "dtype: int64"
      ]
     },
     "execution_count": 6,
     "metadata": {},
     "output_type": "execute_result"
    }
   ],
   "source": [
    "train_df.isnull().sum()"
   ]
  },
  {
   "cell_type": "code",
   "execution_count": 16,
   "id": "610f6665-c77c-4b5b-b445-677defc891d0",
   "metadata": {
    "tags": []
   },
   "outputs": [],
   "source": [
    "sentences = train_df['comment_text'].values"
   ]
  },
  {
   "cell_type": "code",
   "execution_count": 8,
   "id": "2a3be5fa-aa57-437c-ad02-705a81eb944e",
   "metadata": {
    "tags": []
   },
   "outputs": [],
   "source": [
    "possible_labels = train_df.columns[2:].values"
   ]
  },
  {
   "cell_type": "code",
   "execution_count": 9,
   "id": "30ae5b71-c8e1-42c0-8a31-2c0f21db1ba4",
   "metadata": {
    "tags": []
   },
   "outputs": [],
   "source": [
    "targets = train_df[possible_labels].values"
   ]
  },
  {
   "cell_type": "code",
   "execution_count": 11,
   "id": "0bdbdf58-3118-4bd3-badb-8ee7037bf8ea",
   "metadata": {
    "tags": []
   },
   "outputs": [
    {
     "name": "stdout",
     "output_type": "stream",
     "text": [
      "Max sequence length 8\n",
      "Min sequence length 8\n",
      "Median sequence length 8\n"
     ]
    }
   ],
   "source": [
    "print(f'Max sequence length {max(len(s) for s in sentences)}')\n",
    "print(f'Min sequence length {min(len(s) for s in sentences)}')\n",
    "s = sorted(len(s) for s in sentences)\n",
    "print(f'Median sequence length {s[len(s) // 2]}')"
   ]
  },
  {
   "cell_type": "code",
   "execution_count": 18,
   "id": "168b2680-dbea-49a7-a8f5-b5bde05a0d6b",
   "metadata": {
    "tags": []
   },
   "outputs": [],
   "source": [
    "tokenizer = Tokenizer(oov_token='<OOV>', num_words=MAX_VOCAB_SIZE)\n",
    "tokenizer.fit_on_texts(sentences)\n",
    "sequences = tokenizer.texts_to_sequences(sentences)"
   ]
  },
  {
   "cell_type": "code",
   "execution_count": 19,
   "id": "cddf94c2-f8a9-4e3b-b85e-6826e16f5cd6",
   "metadata": {
    "tags": []
   },
   "outputs": [
    {
     "name": "stdout",
     "output_type": "stream",
     "text": [
      "Found 210338 unique tokens.\n"
     ]
    }
   ],
   "source": [
    "word2idx = tokenizer.word_index\n",
    "print(f'Found {len(word2idx)} unique tokens.')"
   ]
  },
  {
   "cell_type": "code",
   "execution_count": 20,
   "id": "e47424e4-58b3-4b0f-a217-bee990948b63",
   "metadata": {
    "tags": []
   },
   "outputs": [
    {
     "name": "stdout",
     "output_type": "stream",
     "text": [
      "Shape of data tensor : (159571, 100)\n"
     ]
    }
   ],
   "source": [
    "data = pad_sequences(sequences, maxlen=MAX_SEQUENCE_LENGTH)\n",
    "print(f'Shape of data tensor : {data.shape}')"
   ]
  },
  {
   "cell_type": "code",
   "execution_count": 21,
   "id": "5fae73e8-7de3-4ef2-9fa2-5cbfcdf6f9f0",
   "metadata": {
    "tags": []
   },
   "outputs": [],
   "source": [
    "#preparing embedding matrix\n",
    "num_words = min(MAX_VOCAB_SIZE, len(word2idx) + 1) #keras word indexes start from 1, therefore last index will be 20000 instead of 19999\n",
    "embedding_matrix = np.zeros((num_words, EMBEDDING_DIM))\n",
    "for word, i in word2idx.items() :\n",
    "    if i < MAX_VOCAB_SIZE :\n",
    "        embedding_vector = word2idx.get(word)\n",
    "        if embedding_vector is not None :\n",
    "            #words not found will be all zeros\n",
    "            embedding_matrix[i] = embedding_vector"
   ]
  },
  {
   "cell_type": "code",
   "execution_count": 22,
   "id": "d1ad7d0f-e0c1-4dae-96b0-ce2ff2419a57",
   "metadata": {
    "tags": []
   },
   "outputs": [],
   "source": [
    "embedding_layer = Embedding(\n",
    "    input_dim=num_words,\n",
    "    output_dim=EMBEDDING_DIM,\n",
    "    weights=[embedding_matrix],\n",
    "    input_length=MAX_SEQUENCE_LENGTH,\n",
    "    trainable=False\n",
    ")"
   ]
  },
  {
   "cell_type": "code",
   "execution_count": 26,
   "id": "8b139909-df0f-4dad-93c7-8f0b5022e888",
   "metadata": {
    "tags": []
   },
   "outputs": [
    {
     "name": "stdout",
     "output_type": "stream",
     "text": [
      "Model: \"model\"\n",
      "_________________________________________________________________\n",
      " Layer (type)                Output Shape              Param #   \n",
      "=================================================================\n",
      " input_2 (InputLayer)        [(None, 100)]             0         \n",
      "                                                                 \n",
      " embedding (Embedding)       (None, 100, 100)          2000000   \n",
      "                                                                 \n",
      " conv1d_2 (Conv1D)           (None, 98, 128)           38528     \n",
      "                                                                 \n",
      " max_pooling1d_2 (MaxPooling  (None, 32, 128)          0         \n",
      " 1D)                                                             \n",
      "                                                                 \n",
      " conv1d_3 (Conv1D)           (None, 30, 128)           49280     \n",
      "                                                                 \n",
      " max_pooling1d_3 (MaxPooling  (None, 10, 128)          0         \n",
      " 1D)                                                             \n",
      "                                                                 \n",
      " conv1d_4 (Conv1D)           (None, 8, 128)            49280     \n",
      "                                                                 \n",
      " global_max_pooling1d (Globa  (None, 128)              0         \n",
      " lMaxPooling1D)                                                  \n",
      "                                                                 \n",
      " dense (Dense)               (None, 128)               16512     \n",
      "                                                                 \n",
      " dense_1 (Dense)             (None, 6)                 774       \n",
      "                                                                 \n",
      "=================================================================\n",
      "Total params: 2,154,374\n",
      "Trainable params: 154,374\n",
      "Non-trainable params: 2,000,000\n",
      "_________________________________________________________________\n"
     ]
    }
   ],
   "source": [
    "i = Input(shape=(MAX_SEQUENCE_LENGTH,))\n",
    "x = embedding_layer(i)\n",
    "x = Conv1D(128, 3, activation='relu') (x)\n",
    "x = MaxPooling1D(3) (x)\n",
    "x = Conv1D(128, 3, activation='relu') (x)\n",
    "x = MaxPooling1D(3) (x)\n",
    "x = Conv1D(128, 3, activation='relu') (x)\n",
    "x = GlobalMaxPooling1D() (x)\n",
    "x = Dense(128, activation='relu') (x)\n",
    "output = Dense(len(possible_labels), activation='sigmoid') (x)\n",
    "\n",
    "model = Model(i, output)\n",
    "model.summary()"
   ]
  },
  {
   "cell_type": "code",
   "execution_count": 27,
   "id": "d12c936c-9a3c-49dd-a889-7d180d18e5c3",
   "metadata": {
    "tags": []
   },
   "outputs": [],
   "source": [
    "model.compile(\n",
    "    loss='binary_crossentropy',\n",
    "    optimizer='rmsprop',\n",
    "    metrics=['accuracy']\n",
    ")"
   ]
  },
  {
   "cell_type": "code",
   "execution_count": 28,
   "id": "bb3f2cd4-c72b-41a8-97a2-a877e6206077",
   "metadata": {
    "tags": []
   },
   "outputs": [
    {
     "name": "stdout",
     "output_type": "stream",
     "text": [
      "Epoch 1/10\n",
      "998/998 [==============================] - 45s 14ms/step - loss: 3.5838 - accuracy: 0.8684 - val_loss: 0.1388 - val_accuracy: 0.9941\n",
      "Epoch 2/10\n",
      "998/998 [==============================] - 14s 14ms/step - loss: 0.1384 - accuracy: 0.9942 - val_loss: 0.1383 - val_accuracy: 0.9941\n",
      "Epoch 3/10\n",
      "998/998 [==============================] - 14s 14ms/step - loss: 0.1383 - accuracy: 0.9942 - val_loss: 0.1378 - val_accuracy: 0.9941\n",
      "Epoch 4/10\n",
      "998/998 [==============================] - 14s 14ms/step - loss: 0.1382 - accuracy: 0.9942 - val_loss: 0.1380 - val_accuracy: 0.9941\n",
      "Epoch 5/10\n",
      "998/998 [==============================] - 17s 17ms/step - loss: 0.1382 - accuracy: 0.9942 - val_loss: 0.1378 - val_accuracy: 0.9941\n",
      "Epoch 6/10\n",
      "998/998 [==============================] - 15s 15ms/step - loss: 0.1381 - accuracy: 0.9942 - val_loss: 0.1393 - val_accuracy: 0.9941\n",
      "Epoch 7/10\n",
      "998/998 [==============================] - 15s 15ms/step - loss: 0.1380 - accuracy: 0.9942 - val_loss: 0.1377 - val_accuracy: 0.9941\n",
      "Epoch 8/10\n",
      "998/998 [==============================] - 16s 16ms/step - loss: 0.1380 - accuracy: 0.9942 - val_loss: 0.1376 - val_accuracy: 0.9941\n",
      "Epoch 9/10\n",
      "998/998 [==============================] - 20s 20ms/step - loss: 0.1380 - accuracy: 0.9942 - val_loss: 0.1378 - val_accuracy: 0.9941\n",
      "Epoch 10/10\n",
      "998/998 [==============================] - 22s 22ms/step - loss: 0.1379 - accuracy: 0.9942 - val_loss: 0.1377 - val_accuracy: 0.9941\n"
     ]
    }
   ],
   "source": [
    "r = model.fit(\n",
    "    data,\n",
    "    targets,\n",
    "    batch_size=BATCH_SIZE,\n",
    "    epochs=EPOCHS,\n",
    "    validation_split=VALIDATION_SPLIT\n",
    ")"
   ]
  },
  {
   "cell_type": "code",
   "execution_count": 29,
   "id": "7cb18017-3a87-4f08-8beb-20731a2885e8",
   "metadata": {
    "tags": []
   },
   "outputs": [
    {
     "data": {
      "text/plain": [
       "<matplotlib.legend.Legend at 0x24065b2b820>"
      ]
     },
     "execution_count": 29,
     "metadata": {},
     "output_type": "execute_result"
    },
    {
     "data": {
      "image/png": "[encoded data removed]",
      "text/plain": [
       "<Figure size 640x480 with 1 Axes>"
      ]
     },
     "metadata": {},
     "output_type": "display_data"
    }
   ],
   "source": [
    "plt.plot(r.history['loss'], label='loss')\n",
    "plt.plot(r.history['val_loss'], label='val_loss')\n",
    "plt.legend()"
   ]
  },
  {
   "cell_type": "code",
   "execution_count": 31,
   "id": "79d825bf-79b4-479f-80ff-5420477c94a3",
   "metadata": {
    "tags": []
   },
   "outputs": [
    {
     "data": {
      "text/plain": [
       "<matplotlib.legend.Legend at 0x24123b5ad10>"
      ]
     },
     "execution_count": 31,
     "metadata": {},
     "output_type": "execute_result"
    },
    {
     "data": {
      "image/png": "[encoded data removed]",
      "text/plain": [
       "<Figure size 640x480 with 1 Axes>"
      ]
     },
     "metadata": {},
     "output_type": "display_data"
    }
   ],
   "source": [
    "plt.plot(r.history['accuracy'], label='accuracy')\n",
    "plt.plot(r.history['val_accuracy'], label='val_accuracy')\n",
    "plt.legend()"
   ]
  },
  {
   "cell_type": "code",
   "execution_count": 33,
   "id": "f8c5fb8d-740f-45d3-8bd3-3c33e31898a0",
   "metadata": {
    "tags": []
   },
   "outputs": [
    {
     "name": "stdout",
     "output_type": "stream",
     "text": [
      "4987/4987 [==============================] - 17s 3ms/step\n",
      "0.6283935830169657\n"
     ]
    }
   ],
   "source": [
    "p = model.predict(data)\n",
    "aucs= []\n",
    "for j in range(6) :\n",
    "    auc = roc_auc_score(targets[:, j], p[:, j])\n",
    "    aucs.append(auc)\n",
    "print(np.mean(aucs))"
   ]
  },
  {
   "cell_type": "code",
   "execution_count": null,
   "id": "fc730314-78c3-4720-8e04-ef44bb5d7251",
   "metadata": {},
   "outputs": [],
   "source": []
  }
 ],
 "metadata": {
  "kernelspec": {
   "display_name": "data_science",
   "language": "python",
   "name": "data_science"
  },
  "language_info": {
   "codemirror_mode": {
    "name": "ipython",
    "version": 3
   },
   "file_extension": ".py",
   "mimetype": "text/x-python",
   "name": "python",
   "nbconvert_exporter": "python",
   "pygments_lexer": "ipython3",
   "version": "3.10.13"
  }
 },
 "nbformat": 4,
 "nbformat_minor": 5
}
