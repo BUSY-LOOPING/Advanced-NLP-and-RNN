{
 "cells": [
  {
   "cell_type": "code",
   "execution_count": 1,
   "id": "6172e54e-c9db-4cee-88f0-05a93af21009",
   "metadata": {
    "tags": []
   },
   "outputs": [],
   "source": [
    "import os\n",
    "import sys\n",
    "import numpy as np\n",
    "import pandas as pd\n",
    "import matplotlib.pyplot as plt\n",
    "\n",
    "from keras.models import Model\n",
    "from keras.layers import Dense, Embedding, Input, LSTM\n",
    "from keras.preprocessing.text import Tokenizer\n",
    "from keras_preprocessing.sequence import pad_sequences\n",
    "from keras.optimizers import Adam, SGD\n",
    "import tensorflow as tf\n",
    "\n",
    "try:\n",
    "    import keras.backend as K\n",
    "    if len(K.tensorflow_backend._get_available_gpus()) > 0:\n",
    "        from keras.layers import CuDNNLSTM as LSTM\n",
    "        from keras.layers import CuDNNGRU as GRU\n",
    "except:\n",
    "    pass"
   ]
  },
  {
   "cell_type": "code",
   "execution_count": 2,
   "id": "cfdb2dd4-7e9c-48f8-b2a4-1b253d521c6d",
   "metadata": {
    "tags": []
   },
   "outputs": [
    {
     "name": "stdout",
     "output_type": "stream",
     "text": [
      "[PhysicalDevice(name='/physical_device:GPU:0', device_type='GPU')]\n"
     ]
    }
   ],
   "source": [
    "physical_devices = tf.config.list_physical_devices('GPU')\n",
    "try:\n",
    "    print(physical_devices)\n",
    "    tf.config.experimental.set_memory_growth(physical_devices[0], True)\n",
    "except:\n",
    "    # Invalid device or cannot modify virtual devices once initialized.\n",
    "    pass"
   ]
  },
  {
   "cell_type": "code",
   "execution_count": 3,
   "id": "0549d439-d7db-40ad-840d-b13dfad57b41",
   "metadata": {
    "tags": []
   },
   "outputs": [],
   "source": [
    "MAX_SEQUENCE_LENTH = 100\n",
    "MAX_VOCAB_SIZE = 3000\n",
    "EMBEDDING_DIM = 50\n",
    "VALIDATION_SPLIT = 0.2\n",
    "BATCH_SIZE = 128\n",
    "EPOCHS = 500\n",
    "LATENT_DIM = 25"
   ]
  },
  {
   "cell_type": "code",
   "execution_count": 4,
   "id": "6ad49341-af7e-432f-b663-e5d6188017c4",
   "metadata": {
    "tags": []
   },
   "outputs": [],
   "source": [
    "input_texts = []\n",
    "target_texts = []\n",
    "with open(os.path.join('data', 'robert_frost.txt'), encoding='utf-8') as f :\n",
    "    for line in f :\n",
    "        line = line.strip()\n",
    "        if line :\n",
    "            input_line = '<sos> ' + line\n",
    "            target_line = line + ' <eos>'\n",
    "            \n",
    "            input_texts.append(input_line)\n",
    "            target_texts.append(target_line)\n",
    "            \n",
    "all_lines = input_texts + target_texts"
   ]
  },
  {
   "cell_type": "code",
   "execution_count": 5,
   "id": "bb47787e-841c-4e5e-b6db-ff518b9ed130",
   "metadata": {
    "tags": []
   },
   "outputs": [],
   "source": [
    "tokenizer = Tokenizer(num_words=MAX_VOCAB_SIZE, filters='', oov_token='<oov>')\n",
    "tokenizer.fit_on_texts(all_lines)\n",
    "input_sequences = tokenizer.texts_to_sequences(input_texts)\n",
    "target_sequences = tokenizer.texts_to_sequences(target_texts)"
   ]
  },
  {
   "cell_type": "code",
   "execution_count": 6,
   "id": "e24f8f0c-77ae-4087-9d2b-fa73d6d5d08f",
   "metadata": {},
   "outputs": [],
   "source": [
    "del all_lines"
   ]
  },
  {
   "cell_type": "code",
   "execution_count": 7,
   "id": "2340bce2-7d81-450d-90df-b1c5b93c734b",
   "metadata": {
    "tags": []
   },
   "outputs": [
    {
     "name": "stdout",
     "output_type": "stream",
     "text": [
      "Max sequence lenth : 12\n"
     ]
    }
   ],
   "source": [
    "max_sequence_lenth_from_data = max(len(s) for s in input_sequences)\n",
    "print(f'Max sequence lenth : {max_sequence_lenth_from_data}')"
   ]
  },
  {
   "cell_type": "code",
   "execution_count": 8,
   "id": "e473382f-916f-4568-beb9-fb855bc85759",
   "metadata": {
    "tags": []
   },
   "outputs": [
    {
     "name": "stdout",
     "output_type": "stream",
     "text": [
      "Found 3057 tokens\n"
     ]
    }
   ],
   "source": [
    "word2idx = tokenizer.word_index\n",
    "print(f'Found {len(word2idx)} tokens')\n",
    "assert('<sos>' in word2idx)\n",
    "assert('<eos>' in word2idx)"
   ]
  },
  {
   "cell_type": "code",
   "execution_count": 9,
   "id": "cb7aaa79-0f2c-4c2f-b263-b2c0ea2b0cca",
   "metadata": {
    "tags": []
   },
   "outputs": [
    {
     "name": "stdout",
     "output_type": "stream",
     "text": [
      "Shape of data tensor : (1436, 12)\n"
     ]
    }
   ],
   "source": [
    "#padding sequences\n",
    "max_sequence_lenth = min(max_sequence_lenth_from_data, MAX_SEQUENCE_LENTH)\n",
    "input_sequences = pad_sequences(input_sequences, maxlen=max_sequence_lenth, padding='post')\n",
    "target_sequences = pad_sequences(target_sequences, maxlen=max_sequence_lenth, padding='post')\n",
    "print(f'Shape of data tensor : {input_sequences.shape}')"
   ]
  },
  {
   "cell_type": "code",
   "execution_count": 10,
   "id": "8f7ad962-0953-42d7-b6f8-2912aa6a7276",
   "metadata": {
    "tags": []
   },
   "outputs": [
    {
     "name": "stdout",
     "output_type": "stream",
     "text": [
      "Found 400000 word vectors.\n"
     ]
    }
   ],
   "source": [
    "word2vec = {}\n",
    "with open(os.path.join('glove', 'glove.6B', 'glove.6B.50d.txt'), encoding=\"utf-8\") as f :\n",
    "    for line in f :\n",
    "        values = line.split()\n",
    "        word = values[0]\n",
    "        vec = np.asarray(values[1:], dtype=np.float32)\n",
    "        word2vec[word] = vec\n",
    "print(f'Found {len(word2vec)} word vectors.')"
   ]
  },
  {
   "cell_type": "code",
   "execution_count": 11,
   "id": "60bb8852-5a24-4248-8aa0-e1bc63517959",
   "metadata": {
    "tags": []
   },
   "outputs": [],
   "source": [
    "#preparing embedding matrix\n",
    "num_words = min(MAX_VOCAB_SIZE, len(word2idx) + 1) \n",
    "#keras word indexes start from 1, therefore last index will be 20000 instead of 19999\n",
    "embedding_matrix = np.zeros((num_words, EMBEDDING_DIM))\n",
    "for word, i in word2idx.items() :\n",
    "    if i < MAX_VOCAB_SIZE :\n",
    "        embedding_vector = word2vec.get(word)\n",
    "        if embedding_vector is not None :\n",
    "            #words not found will be all zeros\n",
    "            embedding_matrix[i] = embedding_vector"
   ]
  },
  {
   "cell_type": "code",
   "execution_count": 12,
   "id": "841a66ff-7309-4aa1-99dd-46ba9f0c853f",
   "metadata": {
    "tags": []
   },
   "outputs": [],
   "source": [
    "one_hot_targets = np.zeros((len(input_sequences), max_sequence_lenth, num_words))\n",
    "for i, target_sequence in enumerate(target_sequences) :\n",
    "    for t, word in enumerate(target_sequence) :\n",
    "        if word > 0 :\n",
    "            one_hot_targets[i, t, word] = 1"
   ]
  },
  {
   "cell_type": "code",
   "execution_count": 13,
   "id": "29fb212f-2901-4e36-9607-7e8509a92da7",
   "metadata": {
    "tags": []
   },
   "outputs": [],
   "source": [
    "embedding_layer = Embedding(\n",
    "    input_dim=num_words,\n",
    "    output_dim=EMBEDDING_DIM,\n",
    "    weights=[embedding_matrix],\n",
    "    # trainable=False\n",
    ")"
   ]
  },
  {
   "cell_type": "code",
   "execution_count": 14,
   "id": "d1f7486c-a815-4408-b9c0-9b93bdbfd395",
   "metadata": {},
   "outputs": [
    {
     "name": "stdout",
     "output_type": "stream",
     "text": [
      "Model: \"model\"\n",
      "__________________________________________________________________________________________________\n",
      " Layer (type)                   Output Shape         Param #     Connected to                     \n",
      "==================================================================================================\n",
      " input_1 (InputLayer)           [(None, 12)]         0           []                               \n",
      "                                                                                                  \n",
      " embedding (Embedding)          (None, 12, 50)       150000      ['input_1[0][0]']                \n",
      "                                                                                                  \n",
      " input_2 (InputLayer)           [(None, 25)]         0           []                               \n",
      "                                                                                                  \n",
      " input_3 (InputLayer)           [(None, 25)]         0           []                               \n",
      "                                                                                                  \n",
      " lstm (LSTM)                    [(None, 12, 25),     7600        ['embedding[0][0]',              \n",
      "                                 (None, 25),                      'input_2[0][0]',                \n",
      "                                 (None, 25)]                      'input_3[0][0]']                \n",
      "                                                                                                  \n",
      " dense (Dense)                  (None, 12, 3000)     78000       ['lstm[0][0]']                   \n",
      "                                                                                                  \n",
      "==================================================================================================\n",
      "Total params: 235,600\n",
      "Trainable params: 235,600\n",
      "Non-trainable params: 0\n",
      "__________________________________________________________________________________________________\n"
     ]
    }
   ],
   "source": [
    "input_ = Input(shape=(max_sequence_lenth,))\n",
    "initial_h = Input(shape=[LATENT_DIM,])\n",
    "initial_c = Input(shape=[LATENT_DIM,])\n",
    "x = embedding_layer(input_)\n",
    "lstm = LSTM(LATENT_DIM, return_sequences=True, return_state=True)\n",
    "x, _, _ = lstm(x, initial_state=[initial_h, initial_c])\n",
    "dense = Dense(num_words, activation='softmax')\n",
    "output = dense(x)\n",
    "\n",
    "model = Model([input_, initial_h, initial_c], output)\n",
    "model.summary()"
   ]
  },
  {
   "cell_type": "code",
   "execution_count": 15,
   "id": "cebbf9a1-99a9-474d-a2bf-c0afaf1983be",
   "metadata": {
    "tags": []
   },
   "outputs": [],
   "source": [
    "model.compile(\n",
    "    loss='categorical_crossentropy',\n",
    "    optimizer=Adam(learning_rate=0.01),\n",
    "    metrics=['accuracy']\n",
    ")"
   ]
  },
  {
   "cell_type": "code",
   "execution_count": 16,
   "id": "34574347-d4f8-46b1-9c36-679d4b7eeb84",
   "metadata": {
    "tags": []
   },
   "outputs": [
    {
     "data": {
      "text/plain": [
       "(1436, 12)"
      ]
     },
     "execution_count": 16,
     "metadata": {},
     "output_type": "execute_result"
    }
   ],
   "source": [
    "input_sequences.shape"
   ]
  },
  {
   "cell_type": "code",
   "execution_count": 17,
   "id": "01b9e736-4187-482d-a5c9-1fd026452b70",
   "metadata": {
    "tags": []
   },
   "outputs": [],
   "source": [
    "z = np.zeros((len(input_sequences), LATENT_DIM))\n",
    "r = model.fit(\n",
    "    [input_sequences, z, z],\n",
    "    one_hot_targets,\n",
    "    batch_size=BATCH_SIZE,\n",
    "    epochs=EPOCHS,\n",
    "    validation_split=VALIDATION_SPLIT,\n",
    "    workers=8,\n",
    "    verbose=0\n",
    ")"
   ]
  },
  {
   "cell_type": "code",
   "execution_count": 18,
   "id": "a153c5cf-3e5d-4a2a-9c43-954f4e1cdc3d",
   "metadata": {
    "tags": []
   },
   "outputs": [
    {
     "data": {
      "text/plain": [
       "<matplotlib.legend.Legend at 0x2520863dd50>"
      ]
     },
     "execution_count": 18,
     "metadata": {},
     "output_type": "execute_result"
    },
    {
     "data": {
      "image/png": "[encoded data removed]",
      "text/plain": [
       "<Figure size 640x480 with 1 Axes>"
      ]
     },
     "metadata": {},
     "output_type": "display_data"
    }
   ],
   "source": [
    "plt.plot(r.history['loss'], label='loss')\n",
    "plt.plot(r.history['val_loss'], label='val_loss')\n",
    "plt.legend()"
   ]
  },
  {
   "cell_type": "code",
   "execution_count": 19,
   "id": "6235729b-7769-4367-9eac-f4e5605f7da8",
   "metadata": {
    "tags": []
   },
   "outputs": [
    {
     "data": {
      "text/plain": [
       "<matplotlib.legend.Legend at 0x25291dbf940>"
      ]
     },
     "execution_count": 19,
     "metadata": {},
     "output_type": "execute_result"
    },
    {
     "data": {
      "image/png": "[encoded data removed]",
      "text/plain": [
       "<Figure size 640x480 with 1 Axes>"
      ]
     },
     "metadata": {},
     "output_type": "display_data"
    }
   ],
   "source": [
    "plt.plot(r.history['accuracy'], label='accuracy')\n",
    "plt.plot(r.history['val_accuracy'], label='val_accuracy')\n",
    "plt.legend()"
   ]
  },
  {
   "cell_type": "code",
   "execution_count": 22,
   "id": "55360686-b4c1-43ec-8e93-02f86ccbb096",
   "metadata": {
    "tags": []
   },
   "outputs": [
    {
     "name": "stdout",
     "output_type": "stream",
     "text": [
      "Model: \"model_2\"\n",
      "__________________________________________________________________________________________________\n",
      " Layer (type)                   Output Shape         Param #     Connected to                     \n",
      "==================================================================================================\n",
      " input_5 (InputLayer)           [(None, 1)]          0           []                               \n",
      "                                                                                                  \n",
      " embedding (Embedding)          multiple             150000      ['input_5[0][0]']                \n",
      "                                                                                                  \n",
      " input_2 (InputLayer)           [(None, 25)]         0           []                               \n",
      "                                                                                                  \n",
      " input_3 (InputLayer)           [(None, 25)]         0           []                               \n",
      "                                                                                                  \n",
      " lstm (LSTM)                    multiple             7600        ['embedding[2][0]',              \n",
      "                                                                  'input_2[0][0]',                \n",
      "                                                                  'input_3[0][0]']                \n",
      "                                                                                                  \n",
      " dense (Dense)                  multiple             78000       ['lstm[2][0]']                   \n",
      "                                                                                                  \n",
      "==================================================================================================\n",
      "Total params: 235,600\n",
      "Trainable params: 235,600\n",
      "Non-trainable params: 0\n",
      "__________________________________________________________________________________________________\n"
     ]
    }
   ],
   "source": [
    "#sampling model\n",
    "input2 = Input(shape=(1,))\n",
    "x = embedding_layer(input2)\n",
    "x, h, c = lstm(x, initial_state=[initial_h, initial_c])\n",
    "output2 = dense(x)\n",
    "sampling_model = Model([input2, initial_h, initial_c], [output2, h, c])\n",
    "sampling_model.summary()"
   ]
  },
  {
   "cell_type": "code",
   "execution_count": 23,
   "id": "98de2d15-7fe5-45b5-8707-0d70153c970a",
   "metadata": {},
   "outputs": [],
   "source": [
    "idx2word = tokenizer.index_word"
   ]
  },
  {
   "cell_type": "code",
   "execution_count": 28,
   "id": "e46b67a7-bdf4-4eee-8dff-3258e54a4e88",
   "metadata": {
    "tags": []
   },
   "outputs": [],
   "source": [
    "def sample_line() :\n",
    "    np_input = np.array([[word2idx['<sos>']]])\n",
    "    h = np.zeros((1, LATENT_DIM)) #1 sample and sequence of lenth 1\n",
    "    c = np.zeros((1, LATENT_DIM))\n",
    "    \n",
    "    eos = word2idx['<eos>']\n",
    "    \n",
    "    output_sentence = []\n",
    "    \n",
    "    for _ in range(max_sequence_lenth) :\n",
    "        o, h, c = sampling_model.predict([np_input, h, c], verbose=0) #o is a list of prob for next word\n",
    "        #h and c are next hidden states and cell states\n",
    "        \n",
    "        # print(f'o shape : {o.shape}')\n",
    "        # print(f'h shape : {h.shape}')\n",
    "        # print(f'c shape : {c.shape}')\n",
    "        \n",
    "        #sometimes prob give very high prob to 0 i.e no word\n",
    "        probs = o[0, 0]\n",
    "        if np.argmax(probs) == 0 :\n",
    "            print('<PROB ERR>')\n",
    "        probs[0] = 0\n",
    "        probs /= probs.sum()\n",
    "        idx = np.random.choice(len(probs), p = probs)\n",
    "        if idx == eos :\n",
    "            break\n",
    "            \n",
    "        output_sentence.append(idx2word.get(idx, ''))\n",
    "        \n",
    "        #make the output as the next input for the model\n",
    "        np_input[0, 0] = idx\n",
    "        \n",
    "    return ' '.join(output_sentence)\n",
    "        "
   ]
  },
  {
   "cell_type": "code",
   "execution_count": 30,
   "id": "56fd4d9d-60b3-4223-921a-eb48ddee562a",
   "metadata": {
    "tags": []
   },
   "outputs": [
    {
     "name": "stdout",
     "output_type": "stream",
     "text": [
      "at least they were. i stay it,\n",
      "a rock-strewn town in spring\n",
      "two roads diverged in a wood, and lift ice\n",
      "at having eased her heart of love,\n"
     ]
    },
    {
     "name": "stdin",
     "output_type": "stream",
     "text": [
      "======= GENERATE ANOTHER? [Y/n] ======= n\n"
     ]
    }
   ],
   "source": [
    "while True :\n",
    "    for _ in range(4) :\n",
    "        print(sample_line())\n",
    "        \n",
    "    ans = input('======= GENERATE ANOTHER? [Y/n] =======')\n",
    "    if ans and ans[0].lower().startswith('n'):\n",
    "        break"
   ]
  },
  {
   "cell_type": "code",
   "execution_count": null,
   "id": "418f8fe3-9c00-4c37-8e5a-c6b16362feda",
   "metadata": {},
   "outputs": [],
   "source": []
  }
 ],
 "metadata": {
  "kernelspec": {
   "display_name": "data_science",
   "language": "python",
   "name": "data_science"
  },
  "language_info": {
   "codemirror_mode": {
    "name": "ipython",
    "version": 3
   },
   "file_extension": ".py",
   "mimetype": "text/x-python",
   "name": "python",
   "nbconvert_exporter": "python",
   "pygments_lexer": "ipython3",
   "version": "3.10.13"
  }
 },
 "nbformat": 4,
 "nbformat_minor": 5
}
