{
 "cells": [
  {
   "cell_type": "code",
   "execution_count": 1,
   "id": "e46c7279-1897-4fe6-9c8c-1922888a0fd3",
   "metadata": {
    "tags": []
   },
   "outputs": [],
   "source": [
    "import os\n",
    "import sys\n",
    "import numpy as np\n",
    "import pandas as pd\n",
    "import matplotlib.pyplot as plt\n",
    "\n",
    "from keras.models import Model\n",
    "from keras.layers import Dense, Embedding, Input, LSTM\n",
    "from keras.preprocessing.text import Tokenizer\n",
    "from keras_preprocessing.sequence import pad_sequences\n",
    "from keras.optimizers import Adam, SGD\n",
    "import tensorflow as tf\n",
    "\n",
    "\n",
    "import fasttext\n",
    "import fasttext.util\n",
    "\n",
    "\n",
    "try:\n",
    "    import keras.backend as K\n",
    "    if len(K.tensorflow_backend._get_available_gpus()) > 0:\n",
    "        from keras.layers import CuDNNLSTM as LSTM\n",
    "        from keras.layers import CuDNNGRU as GRU\n",
    "except:\n",
    "    pass"
   ]
  },
  {
   "cell_type": "code",
   "execution_count": 2,
   "id": "7ef813fe-e186-41c0-be59-9d78eb17e612",
   "metadata": {
    "tags": []
   },
   "outputs": [
    {
     "name": "stdout",
     "output_type": "stream",
     "text": [
      "1 Physical GPUs, 1 Logical GPUs\n"
     ]
    }
   ],
   "source": [
    "gpus = tf.config.experimental.list_physical_devices('GPU')\n",
    "if gpus:\n",
    "    try:\n",
    "        for gpu in gpus:\n",
    "            tf.config.experimental.set_memory_growth(gpu, True)\n",
    "        logical_gpus = tf.config.experimental.list_logical_devices('GPU')\n",
    "        print(len(gpus), \"Physical GPUs,\", len(logical_gpus), \"Logical GPUs\")\n",
    "    except RuntimeError as e:\n",
    "        # Memory growth must be set before GPUs have been initialized\n",
    "        print(e)"
   ]
  },
  {
   "cell_type": "code",
   "execution_count": 3,
   "id": "77330dff-5571-437c-9976-c56213cd47d4",
   "metadata": {
    "tags": []
   },
   "outputs": [],
   "source": [
    "MAX_SEQUENCE_LENTH = 100\n",
    "MAX_VOCAB_SIZE = 20000\n",
    "EMBEDDING_DIM = 50\n",
    "VALIDATION_SPLIT = 0.2\n",
    "BATCH_SIZE = 64\n",
    "EPOCHS = 100\n",
    "LATENT_DIM = 100\n",
    "NUM_SAMPLES = 10000"
   ]
  },
  {
   "cell_type": "code",
   "execution_count": 4,
   "id": "e6f8656b-7794-4bf6-b078-6359ffbf8f4e",
   "metadata": {
    "tags": []
   },
   "outputs": [],
   "source": [
    "input_texts = [] #sentence in original language\n",
    "target_texts = [] #sentence in target language\n",
    "target_texts_inputs = [] #sentence in target language offset by 1"
   ]
  },
  {
   "cell_type": "code",
   "execution_count": 5,
   "id": "e2ccb8d8-3c88-4c11-a99a-0e71349a9ca4",
   "metadata": {
    "tags": []
   },
   "outputs": [
    {
     "name": "stdout",
     "output_type": "stream",
     "text": [
      "Num of samples : 3061\n"
     ]
    }
   ],
   "source": [
    "t = 0\n",
    "with open(os.path.join('data', 'hindi_eng_data', 'hin-eng', 'hin.txt'), encoding='utf-8') as f :\n",
    "    for line in f :\n",
    "        if '\\t' not in line :\n",
    "            continue\n",
    "            \n",
    "        t += 1\n",
    "        if t > NUM_SAMPLES :\n",
    "            break\n",
    "\n",
    "        input_text, translation, _ = line.split('\\t')\n",
    "\n",
    "        target_text = translation + ' <eos>'\n",
    "        target_text_input = '<sos> ' + translation\n",
    "\n",
    "        input_texts.append(input_text)\n",
    "        target_texts.append(target_text)\n",
    "        target_texts_inputs.append(target_text_input)\n",
    "    \n",
    "print(f'Num of samples : {len(input_texts)}')"
   ]
  },
  {
   "cell_type": "code",
   "execution_count": 6,
   "id": "17643168-d330-49ef-8e85-380428a7586f",
   "metadata": {
    "tags": []
   },
   "outputs": [
    {
     "name": "stdout",
     "output_type": "stream",
     "text": [
      "Found 2464 unique tokens.\n"
     ]
    }
   ],
   "source": [
    "tokenizer_inputs = Tokenizer(num_words=MAX_VOCAB_SIZE, oov_token='<oov>')\n",
    "tokenizer_inputs.fit_on_texts(input_texts)\n",
    "input_sequences = tokenizer_inputs.texts_to_sequences(input_texts)\n",
    "\n",
    "word2idx_inputs = tokenizer_inputs.word_index\n",
    "max_len_input = max(len(s) for s in input_sequences)\n",
    "print(f'Found {len(word2idx_inputs)} unique tokens.')"
   ]
  },
  {
   "cell_type": "code",
   "execution_count": 7,
   "id": "ab5a3262-e520-44e5-921e-fb5b4284860d",
   "metadata": {
    "tags": []
   },
   "outputs": [
    {
     "name": "stdout",
     "output_type": "stream",
     "text": [
      "Found 3266 unique tokens.\n"
     ]
    }
   ],
   "source": [
    "#dont filter special characters <sos> <eos>\n",
    "tokenizer_outputs = Tokenizer(num_words=MAX_VOCAB_SIZE, oov_token='<oov>', filters='')\n",
    "tokenizer_outputs.fit_on_texts(target_texts + ['<sos>'])\n",
    "target_sequences = tokenizer_outputs.texts_to_sequences(target_texts)\n",
    "target_sequences_inputs = tokenizer_outputs.texts_to_sequences(target_texts_inputs)\n",
    "\n",
    "word2idx_outputs = tokenizer_outputs.word_index\n",
    "max_len_target = max(len(s) for s in target_sequences)\n",
    "print(f'Found {len(word2idx_outputs)} unique tokens.')"
   ]
  },
  {
   "cell_type": "code",
   "execution_count": 8,
   "id": "c3222d57-e4ce-4772-9bb0-1df142bb471a",
   "metadata": {
    "tags": []
   },
   "outputs": [],
   "source": [
    "num_words_output = len(word2idx_outputs) + 1"
   ]
  },
  {
   "cell_type": "code",
   "execution_count": 9,
   "id": "369f56b9-1e93-4934-9be9-894a2c29c1a5",
   "metadata": {
    "tags": []
   },
   "outputs": [
    {
     "name": "stdout",
     "output_type": "stream",
     "text": [
      "Encoder data shape: (3061, 22)\n",
      "Encoder data[0]: \n",
      "[   0    0    0    0    0    0    0    0    0    0    0    0    0    0\n",
      "    0    0    0    0    0    0    0 1327]\n"
     ]
    }
   ],
   "source": [
    "encoder_inputs = pad_sequences(input_sequences, maxlen=max_len_input)\n",
    "print(f'Encoder data shape: {encoder_inputs.shape}')\n",
    "print(f'Encoder data[0]: \\n{encoder_inputs[0]}')"
   ]
  },
  {
   "cell_type": "code",
   "execution_count": 26,
   "id": "50de1c64-7946-49cc-85a8-445fa9173fbe",
   "metadata": {
    "tags": []
   },
   "outputs": [
    {
     "data": {
      "text/plain": [
       "'Wow!'"
      ]
     },
     "execution_count": 26,
     "metadata": {},
     "output_type": "execute_result"
    }
   ],
   "source": [
    "input_texts[0]"
   ]
  },
  {
   "cell_type": "code",
   "execution_count": 27,
   "id": "f0c333a5-b741-42db-9a23-22155007f439",
   "metadata": {
    "tags": []
   },
   "outputs": [
    {
     "data": {
      "text/plain": [
       "'वाह! <eos>'"
      ]
     },
     "execution_count": 27,
     "metadata": {},
     "output_type": "execute_result"
    }
   ],
   "source": [
    "target_texts[0]"
   ]
  },
  {
   "cell_type": "code",
   "execution_count": 28,
   "id": "439049fb-33f8-4bf8-8aa0-f42cf2024b10",
   "metadata": {
    "tags": []
   },
   "outputs": [
    {
     "data": {
      "text/plain": [
       "'<sos> वाह!'"
      ]
     },
     "execution_count": 28,
     "metadata": {},
     "output_type": "execute_result"
    }
   ],
   "source": [
    "target_texts_inputs[0]"
   ]
  },
  {
   "cell_type": "code",
   "execution_count": 10,
   "id": "a49a69ae-b41d-46c3-af5d-705aa3d52e90",
   "metadata": {
    "tags": []
   },
   "outputs": [
    {
     "name": "stdout",
     "output_type": "stream",
     "text": [
      "Decoder data shape: (3061, 26)\n",
      "Decoder data[0]: \n",
      "[3266 1538    0    0    0    0    0    0    0    0    0    0    0    0\n",
      "    0    0    0    0    0    0    0    0    0    0    0    0]\n"
     ]
    }
   ],
   "source": [
    "decoder_inputs = pad_sequences(target_sequences_inputs, maxlen=max_len_target, padding='post')\n",
    "decoder_targets = pad_sequences(target_sequences, maxlen=max_len_target, padding='post')\n",
    "print(f'Decoder data shape: {decoder_inputs.shape}')\n",
    "print(f'Decoder data[0]: \\n{decoder_inputs[0]}')"
   ]
  },
  {
   "cell_type": "code",
   "execution_count": 11,
   "id": "90c66481-452a-4dd8-acb7-78f0ec4a05af",
   "metadata": {
    "tags": []
   },
   "outputs": [
    {
     "name": "stdout",
     "output_type": "stream",
     "text": [
      "Found 400000 word vectors.\n"
     ]
    }
   ],
   "source": [
    "word2vec = {}\n",
    "with open(os.path.join('glove', 'glove.6B', f'glove.6B.{EMBEDDING_DIM}d.txt'), encoding=\"utf-8\") as f :\n",
    "    for line in f :\n",
    "        values = line.split()\n",
    "        word = values[0]\n",
    "        vec = np.asarray(values[1:], dtype=np.float32)\n",
    "        word2vec[word] = vec\n",
    "print(f'Found {len(word2vec)} word vectors.')"
   ]
  },
  {
   "cell_type": "code",
   "execution_count": 12,
   "id": "81bce135-3f3c-4677-b88d-357a219bf75c",
   "metadata": {
    "tags": []
   },
   "outputs": [],
   "source": [
    "#preparing embedding matrix\n",
    "num_words = min(MAX_VOCAB_SIZE, len(word2idx_inputs) + 1) \n",
    "#keras word indexes start from 1, therefore last index will be 20000 instead of 19999\n",
    "embedding_matrix = np.zeros((num_words, EMBEDDING_DIM))\n",
    "for word, i in word2idx_inputs.items() :\n",
    "    if i < MAX_VOCAB_SIZE :\n",
    "        embedding_vector = word2vec.get(word)\n",
    "        if embedding_vector is not None :\n",
    "            #words not found will be all zeros\n",
    "            embedding_matrix[i] = embedding_vector"
   ]
  },
  {
   "cell_type": "markdown",
   "id": "987cc1c8-1956-455b-a6a2-4f5f9e5679ef",
   "metadata": {},
   "source": [
    "## Without Glove Embedding Matrix"
   ]
  },
  {
   "cell_type": "code",
   "execution_count": 13,
   "id": "781f8e91-93c1-4bb4-9c8a-288d8ffe6c02",
   "metadata": {
    "tags": []
   },
   "outputs": [],
   "source": [
    "embedding_layer = Embedding(\n",
    "    input_dim=num_words, #V = vocab size\n",
    "    output_dim=EMBEDDING_DIM, #D = dimensionality, Emedding = VxD\n",
    "    # weights=[embedding_matrix],\n",
    "    trainable=True\n",
    ")"
   ]
  },
  {
   "cell_type": "code",
   "execution_count": 14,
   "id": "6c086886-2065-4fdb-9958-235cdbfcac25",
   "metadata": {
    "tags": []
   },
   "outputs": [
    {
     "name": "stdout",
     "output_type": "stream",
     "text": [
      "Found 1876665 word vectors in hindi\n"
     ]
    }
   ],
   "source": [
    "ft = fasttext.load_model(f'cc.hi.{EMBEDDING_DIM}.bin')\n",
    "# Initialize an empty dictionary to hold the word vectors\n",
    "word2vec_hindi = {}\n",
    "\n",
    "# Iterate through all words in the model's vocabulary\n",
    "for word in ft.get_words():\n",
    "    # Get the vector for the word\n",
    "    word_vector = ft.get_word_vector(word)\n",
    "    # Store the word and its vector in the dictionary\n",
    "    word2vec_hindi[word] = word_vector\n",
    "\n",
    "# Verify by printing the number of words and a sample word vector\n",
    "print(f\"Found {len(word2vec_hindi)} word vectors in hindi\")"
   ]
  },
  {
   "cell_type": "code",
   "execution_count": 15,
   "id": "b489bd2a-0a66-4ad3-ba8b-4e8b7af59533",
   "metadata": {
    "tags": []
   },
   "outputs": [],
   "source": [
    "#preparing embedding matrix- hindi\n",
    "MAX_VOCAB_SIZE_HINDI = 50000\n",
    "num_words_hindi = min(MAX_VOCAB_SIZE_HINDI, len(word2idx_outputs) + 1) \n",
    "#keras word indexes start from 1, therefore last index will be 20000 instead of 19999\n",
    "embedding_matrix_hindi = np.zeros((num_words_hindi, EMBEDDING_DIM))\n",
    "for word, i in word2idx_outputs.items() :\n",
    "    if i < MAX_VOCAB_SIZE_HINDI :\n",
    "        embedding_vector = word2vec_hindi.get(word)\n",
    "        if embedding_vector is not None :\n",
    "            #words not found will be all zeros\n",
    "            embedding_matrix_hindi[i] = embedding_vector"
   ]
  },
  {
   "cell_type": "markdown",
   "id": "19c4e838-eeb9-47de-9873-198d7226a43c",
   "metadata": {},
   "source": [
    "## Without Hindi Embedding Matrix"
   ]
  },
  {
   "cell_type": "code",
   "execution_count": 16,
   "id": "9f6ceff8-7066-47cd-9ccc-5bc58c939ac8",
   "metadata": {
    "tags": []
   },
   "outputs": [],
   "source": [
    "embedding_layer_decoder = Embedding(\n",
    "    input_dim=num_words_hindi, #V = vocab size\n",
    "    output_dim=EMBEDDING_DIM, #D = dimensionality, Emedding = VxD\n",
    "    # weights=[embedding_matrix_hindi],\n",
    "    trainable=True\n",
    ")"
   ]
  },
  {
   "cell_type": "code",
   "execution_count": 16,
   "id": "e9789429-c156-424c-8757-f96884b52087",
   "metadata": {
    "tags": []
   },
   "outputs": [],
   "source": [
    "#max_len_target == decoder_targets.shape[1]\n",
    "decoder_targets_one_hot = np.zeros(\n",
    "    (len(decoder_targets), max_len_target, num_words_output), \n",
    "    dtype=np.float32\n",
    ")"
   ]
  },
  {
   "cell_type": "code",
   "execution_count": 17,
   "id": "5b369113-e17d-4394-afff-5a875cf60322",
   "metadata": {
    "tags": []
   },
   "outputs": [],
   "source": [
    "for i, d in enumerate(decoder_targets) :\n",
    "    for t, word in enumerate(d) :\n",
    "        decoder_targets_one_hot[i, t, word] = 1"
   ]
  },
  {
   "cell_type": "code",
   "execution_count": null,
   "id": "fa3d3634-7511-4173-a3dd-5d6f907f71ea",
   "metadata": {
    "tags": []
   },
   "outputs": [],
   "source": [
    "encoding_inputs_placeholder = Input(shape=(max_len_input,)) #input = NXT, T = max_len_input\n",
    "x = embedding_layer(encoding_inputs_placeholder)\n",
    "encoder = LSTM(LATENT_DIM, return_state=True, dropout=0.5)\n",
    "encoder_outputs, h, c = encoder(x)\n",
    "\n",
    "encoder_states = [h, c]\n",
    "\n",
    "decoder_inputs_placeholder = Input(shape=(max_len_target, ))\n",
    "# decoder_embedding = Embedding(num_words_output, LATENT_DIM)\n",
    "decoder_inputs_x = embedding_layer_decoder(decoder_inputs_placeholder)\n",
    "\n",
    "decoder_lstm = LSTM(LATENT_DIM, return_sequences=True, return_state=True, dropout=0.5)\n",
    "decoder_outputs, _, _ = decoder_lstm(\n",
    "    decoder_inputs_x,\n",
    "    initial_state=encoder_states\n",
    ")\n",
    "\n",
    "decoder_dense = Dense(num_words_output, activation='softmax')\n",
    "decoder_outputs = decoder_dense(decoder_outputs)\n",
    "\n",
    "model = Model([encoding_inputs_placeholder, decoder_inputs_placeholder], decoder_outputs)\n",
    "model.summary()"
   ]
  },
  {
   "cell_type": "code",
   "execution_count": 20,
   "id": "a8304e4b-55a7-4097-8ec7-a6e017fbd671",
   "metadata": {},
   "outputs": [],
   "source": [
    "model.compile(\n",
    "    optimizer='rmsprop',\n",
    "    loss='categorical_crossentropy',\n",
    "    metrics=['accuracy']\n",
    ")"
   ]
  },
  {
   "cell_type": "code",
   "execution_count": 21,
   "id": "9745b77c-1106-407a-a889-a437e5710de1",
   "metadata": {
    "tags": []
   },
   "outputs": [],
   "source": [
    "r1 = model.fit(\n",
    "    [encoder_inputs, decoder_inputs], decoder_targets_one_hot,\n",
    "    batch_size=BATCH_SIZE,\n",
    "    epochs=EPOCHS,\n",
    "    validation_split=0.2,\n",
    "    workers=8,\n",
    "    verbose=0\n",
    ")"
   ]
  },
  {
   "cell_type": "code",
   "execution_count": 22,
   "id": "b24b3613-df79-42dd-a1eb-7b5412338bbe",
   "metadata": {
    "tags": []
   },
   "outputs": [
    {
     "data": {
      "text/plain": [
       "<matplotlib.legend.Legend at 0x1c4dd868850>"
      ]
     },
     "execution_count": 22,
     "metadata": {},
     "output_type": "execute_result"
    },
    {
     "data": {
      "image/png": "[encoded data removed]",
      "text/plain": [
       "<Figure size 640x480 with 1 Axes>"
      ]
     },
     "metadata": {},
     "output_type": "display_data"
    }
   ],
   "source": [
    "plt.plot(r1.history['loss'], label='loss')\n",
    "plt.plot(r1.history['val_loss'], label='val_loss')\n",
    "plt.legend()"
   ]
  },
  {
   "cell_type": "code",
   "execution_count": 23,
   "id": "316d88a1-9fb2-4f33-a204-b460744ff198",
   "metadata": {
    "tags": []
   },
   "outputs": [
    {
     "data": {
      "text/plain": [
       "<matplotlib.legend.Legend at 0x1c595c8f9a0>"
      ]
     },
     "execution_count": 23,
     "metadata": {},
     "output_type": "execute_result"
    },
    {
     "data": {
      "image/png": "[encoded data removed]",
      "text/plain": [
       "<Figure size 640x480 with 1 Axes>"
      ]
     },
     "metadata": {},
     "output_type": "display_data"
    }
   ],
   "source": [
    "plt.plot(r1.history['accuracy'], label='accuracy')\n",
    "plt.plot(r1.history['val_accuracy'], label='val_accuracy')\n",
    "plt.legend()"
   ]
  },
  {
   "cell_type": "markdown",
   "id": "b8a735fd-5879-4d53-b5d0-84f61ddb4123",
   "metadata": {},
   "source": [
    "## Sampling model"
   ]
  },
  {
   "cell_type": "code",
   "execution_count": 24,
   "id": "ab0e2439-43ce-4753-ab78-5ca878c92b58",
   "metadata": {
    "tags": []
   },
   "outputs": [],
   "source": [
    "encoder_model = Model(encoding_inputs_placeholder, encoder_states)\n",
    "\n",
    "decoder_state_input_h = Input(shape=(LATENT_DIM,))\n",
    "decoder_state_input_c = Input(shape=(LATENT_DIM,))\n",
    "decoder_states_inputs = [decoder_state_input_h, decoder_state_input_c]\n",
    "\n",
    "decoder_inputs_single = Input(shape=(1,))\n",
    "decoder_inputs_single_x = embedding_layer_decoder(decoder_inputs_single)\n",
    "\n",
    "decoder_outputs, h, c = decoder_lstm(\n",
    "    decoder_inputs_single_x,\n",
    "    initial_state=decoder_states_inputs,\n",
    ")\n",
    "\n",
    "decoder_states = [h, c]\n",
    "decoder_outputs = decoder_dense(decoder_outputs)\n",
    "\n",
    "decoder_model = Model(\n",
    "    [decoder_inputs_single] + decoder_states_inputs,\n",
    "    [decoder_outputs] + decoder_states\n",
    ")"
   ]
  },
  {
   "cell_type": "code",
   "execution_count": 22,
   "id": "0928be7e-3cd2-432f-9b6c-e93725f35369",
   "metadata": {
    "tags": []
   },
   "outputs": [],
   "source": [
    "idx2word_eng = tokenizer_inputs.index_word\n",
    "idx2word_trans = tokenizer_outputs.index_word"
   ]
  },
  {
   "cell_type": "code",
   "execution_count": 23,
   "id": "e1100785-d3d0-4285-b9ad-75a20b0d063e",
   "metadata": {
    "tags": []
   },
   "outputs": [],
   "source": [
    "def decode_sequence(input_seq) :\n",
    "    states_value = encoder_model.predict(input_seq, verbose=0)\n",
    "    \n",
    "    #generate empty target sequence of len 1\n",
    "    target_seq = np.zeros((1, 1))\n",
    "    \n",
    "    target_seq[0, 0] = word2idx_outputs['<sos>']\n",
    "    \n",
    "    #if we get this we break\n",
    "    eos = word2idx_outputs['<eos>']\n",
    "    \n",
    "    output_sentence = []\n",
    "    for _ in range(max_len_target) :\n",
    "        output_token, h, c = decoder_model.predict(\n",
    "            [target_seq] + states_value,\n",
    "            verbose=0\n",
    "        )\n",
    "        \n",
    "        #getting the next word\n",
    "        idx = np.argmax(output_token[0, 0, :])\n",
    "        \n",
    "        if eos == idx :\n",
    "            break\n",
    "            \n",
    "        word = ''\n",
    "        if idx > 0:\n",
    "            word = idx2word_trans[idx]\n",
    "            output_sentence.append(word)\n",
    "            \n",
    "        target_seq[0, 0] = idx\n",
    "        \n",
    "        states_value = [h, c]\n",
    "        \n",
    "    return ' '.join(output_sentence)"
   ]
  },
  {
   "cell_type": "code",
   "execution_count": 27,
   "id": "e5e31bbc-fe92-43b8-b892-6a38265172f1",
   "metadata": {
    "tags": []
   },
   "outputs": [
    {
     "name": "stdout",
     "output_type": "stream",
     "text": [
      "===================\n",
      "Input :  I don't want your pity.\n",
      "Translation :  मैं तुम्हारे लिए बहुत खुश हूँ।\n"
     ]
    },
    {
     "name": "stdin",
     "output_type": "stream",
     "text": [
      "Continue? [Y/n] y\n"
     ]
    },
    {
     "name": "stdout",
     "output_type": "stream",
     "text": [
      "===================\n",
      "Input :  The accident was due to his careless driving.\n",
      "Translation :  उस आदमी ने एक आदमी को तैरकर अंडे दिया।\n"
     ]
    },
    {
     "name": "stdin",
     "output_type": "stream",
     "text": [
      "Continue? [Y/n] y\n"
     ]
    },
    {
     "name": "stdout",
     "output_type": "stream",
     "text": [
      "===================\n",
      "Input :  Who knows?\n",
      "Translation :  किसे क्या है?\n"
     ]
    },
    {
     "name": "stdin",
     "output_type": "stream",
     "text": [
      "Continue? [Y/n] y\n"
     ]
    },
    {
     "name": "stdout",
     "output_type": "stream",
     "text": [
      "===================\n",
      "Input :  We went for a walk in the forest.\n",
      "Translation :  हम सब कम दिन बार लिया।\n"
     ]
    },
    {
     "name": "stdin",
     "output_type": "stream",
     "text": [
      "Continue? [Y/n] y\n"
     ]
    },
    {
     "name": "stdout",
     "output_type": "stream",
     "text": [
      "===================\n",
      "Input :  I wish I could help.\n",
      "Translation :  मैं कल मैं मिलने करूँगा।\n"
     ]
    },
    {
     "name": "stdin",
     "output_type": "stream",
     "text": [
      "Continue? [Y/n] n\n"
     ]
    },
    {
     "data": {
      "text/plain": [
       "[800, 2715, 53, 1970, 523]"
      ]
     },
     "execution_count": 27,
     "metadata": {},
     "output_type": "execute_result"
    }
   ],
   "source": [
    "random_idx = []\n",
    "while True :\n",
    "    i = np.random.choice(len(input_texts))\n",
    "    random_idx.append(i)\n",
    "    input_seq = encoder_inputs[i:i+1]\n",
    "    translation = decode_sequence(input_seq)\n",
    "    print('===================')\n",
    "    print('Input : ', input_texts[i])\n",
    "    print('Translation : ', translation)\n",
    "    \n",
    "    ans = input('Continue? [Y/n]')\n",
    "    if ans and ans.lower().startswith('n'):\n",
    "        break\n",
    "        \n",
    "del (encoding_inputs_placeholder, x, encoder, encoder_outputs, h, c, encoder_states,\n",
    "     decoder_inputs_placeholder, decoder_inputs_x, decoder_lstm, decoder_outputs, decoder_dense,\n",
    "     model, encoder_model, decoder_state_input_h, decoder_state_input_c, decoder_states_inputs,\n",
    "     decoder_inputs_single, decoder_inputs_single_x, decoder_states, decoder_model)\n",
    "random_idx"
   ]
  },
  {
   "cell_type": "markdown",
   "id": "122c04dd-9886-4879-a1b3-2d1c92d2ddfe",
   "metadata": {},
   "source": [
    "## With Glove Matrix - Not Trainable"
   ]
  },
  {
   "cell_type": "code",
   "execution_count": 19,
   "id": "5bb4c749-add6-4f5b-a98f-b66ce701c283",
   "metadata": {
    "tags": []
   },
   "outputs": [],
   "source": [
    "embedding_layer = Embedding(\n",
    "    input_dim=num_words, #V = vocab size\n",
    "    output_dim=EMBEDDING_DIM, #D = dimensionality, Emedding = VxD\n",
    "    weights=[embedding_matrix],\n",
    "    trainable=False\n",
    ")\n",
    "\n",
    "embedding_layer_decoder = Embedding(\n",
    "    input_dim=num_words_hindi, #V = vocab size\n",
    "    output_dim=EMBEDDING_DIM, #D = dimensionality, Emedding = VxD\n",
    "    # weights=[embedding_matrix_hindi],\n",
    "    trainable=False\n",
    ")\n",
    "\n",
    "encoding_inputs_placeholder = Input(shape=(max_len_input,)) #input = NXT, T = max_len_input\n",
    "x = embedding_layer(encoding_inputs_placeholder)\n",
    "encoder = LSTM(LATENT_DIM, return_state=True, dropout=0.5)\n",
    "encoder_outputs, h, c = encoder(x)\n",
    "\n",
    "encoder_states = [h, c]\n",
    "\n",
    "decoder_inputs_placeholder = Input(shape=(max_len_target, ))\n",
    "# decoder_embedding = Embedding(num_words_output, LATENT_DIM)\n",
    "decoder_inputs_x = embedding_layer_decoder(decoder_inputs_placeholder)\n",
    "\n",
    "decoder_lstm = LSTM(LATENT_DIM, return_sequences=True, return_state=True, dropout=0.5)\n",
    "decoder_outputs, _, _ = decoder_lstm(\n",
    "    decoder_inputs_x,\n",
    "    initial_state=encoder_states\n",
    ")\n",
    "\n",
    "decoder_dense = Dense(num_words_output, activation='softmax')\n",
    "decoder_outputs = decoder_dense(decoder_outputs)\n",
    "\n",
    "model = Model([encoding_inputs_placeholder, decoder_inputs_placeholder], decoder_outputs)\n",
    "model.compile(\n",
    "    optimizer='rmsprop',\n",
    "    loss='categorical_crossentropy',\n",
    "    metrics=['accuracy']\n",
    ")\n",
    "r2 =  model.fit(\n",
    "    [encoder_inputs, decoder_inputs], decoder_targets_one_hot,\n",
    "    batch_size=BATCH_SIZE,\n",
    "    epochs=EPOCHS,\n",
    "    validation_split=0.2,\n",
    "    workers=8,\n",
    "    verbose=0\n",
    ")\n",
    "\n",
    "encoder_model = Model(encoding_inputs_placeholder, encoder_states)\n",
    "\n",
    "decoder_state_input_h = Input(shape=(LATENT_DIM,))\n",
    "decoder_state_input_c = Input(shape=(LATENT_DIM,))\n",
    "decoder_states_inputs = [decoder_state_input_h, decoder_state_input_c]\n",
    "\n",
    "decoder_inputs_single = Input(shape=(1,))\n",
    "decoder_inputs_single_x = embedding_layer_decoder(decoder_inputs_single)\n",
    "\n",
    "decoder_outputs, h, c = decoder_lstm(\n",
    "    decoder_inputs_single_x,\n",
    "    initial_state=decoder_states_inputs,\n",
    ")\n",
    "\n",
    "decoder_states = [h, c]\n",
    "decoder_outputs = decoder_dense(decoder_outputs)\n",
    "\n",
    "decoder_model = Model(\n",
    "    [decoder_inputs_single] + decoder_states_inputs,\n",
    "    [decoder_outputs] + decoder_states\n",
    ")\n"
   ]
  },
  {
   "cell_type": "code",
   "execution_count": 22,
   "id": "1d092adb-24c3-459c-9207-49cbce62b1b2",
   "metadata": {
    "tags": []
   },
   "outputs": [
    {
     "data": {
      "text/plain": [
       "<matplotlib.legend.Legend at 0x2b50ad335b0>"
      ]
     },
     "execution_count": 22,
     "metadata": {},
     "output_type": "execute_result"
    },
    {
     "data": {
      "image/png": "[encoded data removed]",
      "text/plain": [
       "<Figure size 640x480 with 1 Axes>"
      ]
     },
     "metadata": {},
     "output_type": "display_data"
    }
   ],
   "source": [
    "\n",
    "plt.plot(r2.history['loss'], label='loss')\n",
    "plt.plot(r2.history['val_loss'], label='val_loss')\n",
    "plt.legend()"
   ]
  },
  {
   "cell_type": "code",
   "execution_count": 23,
   "id": "9ce15c5a-e568-4492-984a-897c85610003",
   "metadata": {
    "tags": []
   },
   "outputs": [
    {
     "data": {
      "text/plain": [
       "<matplotlib.legend.Legend at 0x2b503140b20>"
      ]
     },
     "execution_count": 23,
     "metadata": {},
     "output_type": "execute_result"
    },
    {
     "data": {
      "image/png": "[encoded data removed]",
      "text/plain": [
       "<Figure size 640x480 with 1 Axes>"
      ]
     },
     "metadata": {},
     "output_type": "display_data"
    }
   ],
   "source": [
    "\n",
    "plt.plot(r2.history['accuracy'], label='accuracy')\n",
    "plt.plot(r2.history['val_accuracy'], label='val_accuracy')\n",
    "plt.legend()"
   ]
  },
  {
   "cell_type": "code",
   "execution_count": 28,
   "id": "afd9495e-cb3d-4359-8918-206038e999b8",
   "metadata": {
    "tags": []
   },
   "outputs": [
    {
     "name": "stdout",
     "output_type": "stream",
     "text": [
      "===================\n",
      "Input :  I don't want your pity.\n",
      "Translation :  मैं तुम्हें नहीं कर हूँ।\n",
      "===================\n",
      "Input :  The accident was due to his careless driving.\n",
      "Translation :  उस ने की से से से से गया।\n",
      "===================\n",
      "Input :  Who knows?\n",
      "Translation :  किसे किसे है?\n",
      "===================\n",
      "Input :  We went for a walk in the forest.\n",
      "Translation :  हम जंगल में में के\n",
      "===================\n",
      "Input :  I wish I could help.\n",
      "Translation :  मैं मैं मदद मदद\n"
     ]
    }
   ],
   "source": [
    "random_idx = [800, 2715, 53, 1970, 523]\n",
    "for i in random_idx :\n",
    "    input_seq = encoder_inputs[i:i+1]\n",
    "    translation = decode_sequence(input_seq)\n",
    "    print('===================')\n",
    "    print('Input : ', input_texts[i])\n",
    "    print('Translation : ', translation)\n",
    "    \n",
    "del (encoding_inputs_placeholder, x, encoder, encoder_outputs, h, c, encoder_states,\n",
    "     decoder_inputs_placeholder, decoder_inputs_x, decoder_lstm, decoder_outputs, decoder_dense,\n",
    "     model, encoder_model, decoder_state_input_h, decoder_state_input_c, decoder_states_inputs,\n",
    "     decoder_inputs_single, decoder_inputs_single_x, decoder_states, decoder_model)"
   ]
  },
  {
   "cell_type": "markdown",
   "id": "50371451-fcaa-4252-97e7-c1560f955739",
   "metadata": {},
   "source": [
    "## With Hindi Embedding - Non Trainable"
   ]
  },
  {
   "cell_type": "code",
   "execution_count": 29,
   "id": "303d48b2-8f2f-4e69-beac-1311cc9a4f73",
   "metadata": {
    "tags": []
   },
   "outputs": [],
   "source": [
    "embedding_layer = Embedding(\n",
    "    input_dim=num_words, #V = vocab size\n",
    "    output_dim=EMBEDDING_DIM, #D = dimensionality, Emedding = VxD\n",
    "    weights=[embedding_matrix],\n",
    "    trainable=True\n",
    ")\n",
    "\n",
    "embedding_layer_decoder = Embedding(\n",
    "    input_dim=num_words_hindi, #V = vocab size\n",
    "    output_dim=EMBEDDING_DIM, #D = dimensionality, Emedding = VxD\n",
    "    weights=[embedding_matrix_hindi],\n",
    "    trainable=False\n",
    ")\n",
    "\n",
    "encoding_inputs_placeholder = Input(shape=(max_len_input,)) #input = NXT, T = max_len_input\n",
    "x = embedding_layer(encoding_inputs_placeholder)\n",
    "encoder = LSTM(LATENT_DIM, return_state=True, dropout=0.5)\n",
    "encoder_outputs, h, c = encoder(x)\n",
    "\n",
    "encoder_states = [h, c]\n",
    "\n",
    "decoder_inputs_placeholder = Input(shape=(max_len_target, ))\n",
    "# decoder_embedding = Embedding(num_words_output, LATENT_DIM)\n",
    "decoder_inputs_x = embedding_layer_decoder(decoder_inputs_placeholder)\n",
    "\n",
    "decoder_lstm = LSTM(LATENT_DIM, return_sequences=True, return_state=True, dropout=0.5)\n",
    "decoder_outputs, _, _ = decoder_lstm(\n",
    "    decoder_inputs_x,\n",
    "    initial_state=encoder_states\n",
    ")\n",
    "\n",
    "decoder_dense = Dense(num_words_output, activation='softmax')\n",
    "decoder_outputs = decoder_dense(decoder_outputs)\n",
    "\n",
    "model = Model([encoding_inputs_placeholder, decoder_inputs_placeholder], decoder_outputs)\n",
    "model.compile(\n",
    "    optimizer='rmsprop',\n",
    "    loss='categorical_crossentropy',\n",
    "    metrics=['accuracy']\n",
    ")\n",
    "r3 =  model.fit(\n",
    "    [encoder_inputs, decoder_inputs], decoder_targets_one_hot,\n",
    "    batch_size=BATCH_SIZE,\n",
    "    epochs=EPOCHS,\n",
    "    validation_split=0.2,\n",
    "    workers=8,\n",
    "    verbose=0\n",
    ")\n",
    "\n",
    "encoder_model = Model(encoding_inputs_placeholder, encoder_states)\n",
    "\n",
    "decoder_state_input_h = Input(shape=(LATENT_DIM,))\n",
    "decoder_state_input_c = Input(shape=(LATENT_DIM,))\n",
    "decoder_states_inputs = [decoder_state_input_h, decoder_state_input_c]\n",
    "\n",
    "decoder_inputs_single = Input(shape=(1,))\n",
    "decoder_inputs_single_x = embedding_layer_decoder(decoder_inputs_single)\n",
    "\n",
    "decoder_outputs, h, c = decoder_lstm(\n",
    "    decoder_inputs_single_x,\n",
    "    initial_state=decoder_states_inputs,\n",
    ")\n",
    "\n",
    "decoder_states = [h, c]\n",
    "decoder_outputs = decoder_dense(decoder_outputs)\n",
    "\n",
    "decoder_model = Model(\n",
    "    [decoder_inputs_single] + decoder_states_inputs,\n",
    "    [decoder_outputs] + decoder_states\n",
    ")"
   ]
  },
  {
   "cell_type": "code",
   "execution_count": 30,
   "id": "0ff63160-200c-4dd3-8e87-f2803a5df02a",
   "metadata": {
    "tags": []
   },
   "outputs": [
    {
     "data": {
      "text/plain": [
       "<matplotlib.legend.Legend at 0x2b677a58f10>"
      ]
     },
     "execution_count": 30,
     "metadata": {},
     "output_type": "execute_result"
    },
    {
     "data": {
      "image/png": "[encoded data removed]",
      "text/plain": [
       "<Figure size 640x480 with 1 Axes>"
      ]
     },
     "metadata": {},
     "output_type": "display_data"
    }
   ],
   "source": [
    "\n",
    "plt.plot(r3.history['loss'], label='loss')\n",
    "plt.plot(r3.history['val_loss'], label='val_loss')\n",
    "plt.legend()"
   ]
  },
  {
   "cell_type": "code",
   "execution_count": 31,
   "id": "89bb3873-0c9d-4d2e-83b6-0f33f7133862",
   "metadata": {
    "tags": []
   },
   "outputs": [
    {
     "data": {
      "text/plain": [
       "<matplotlib.legend.Legend at 0x2b67265a770>"
      ]
     },
     "execution_count": 31,
     "metadata": {},
     "output_type": "execute_result"
    },
    {
     "data": {
      "image/png": "[encoded data removed]",
      "text/plain": [
       "<Figure size 640x480 with 1 Axes>"
      ]
     },
     "metadata": {},
     "output_type": "display_data"
    }
   ],
   "source": [
    "\n",
    "plt.plot(r3.history['accuracy'], label='accuracy')\n",
    "plt.plot(r3.history['val_accuracy'], label='val_accuracy')\n",
    "plt.legend()"
   ]
  },
  {
   "cell_type": "code",
   "execution_count": 32,
   "id": "344f6da4-7103-4397-9c1c-f8d1b6a0ff90",
   "metadata": {
    "tags": []
   },
   "outputs": [
    {
     "name": "stdout",
     "output_type": "stream",
     "text": [
      "===================\n",
      "Input :  I don't want your pity.\n",
      "Translation :  मुझे मुझे मदद नहीं नहीं हूँ।\n",
      "===================\n",
      "Input :  The accident was due to his careless driving.\n",
      "Translation :  वह पुलिस अफ़सर की वजह से वजह था।\n",
      "===================\n",
      "Input :  Who knows?\n",
      "Translation :  किसे पता है?\n",
      "===================\n",
      "Input :  We went for a walk in the forest.\n",
      "Translation :  हम जंगल में के लिए पार हैं।\n",
      "===================\n",
      "Input :  I wish I could help.\n",
      "Translation :  मैं मैं मदद मदद कर सकता हूँ।\n"
     ]
    }
   ],
   "source": [
    "for i in random_idx :\n",
    "    input_seq = encoder_inputs[i:i+1]\n",
    "    translation = decode_sequence(input_seq)\n",
    "    print('===================')\n",
    "    print('Input : ', input_texts[i])\n",
    "    print('Translation : ', translation)\n",
    "    \n",
    "    \n",
    "del (encoding_inputs_placeholder, x, encoder, encoder_outputs, h, c, encoder_states,\n",
    "     decoder_inputs_placeholder, decoder_inputs_x, decoder_lstm, decoder_outputs, decoder_dense,\n",
    "     model, encoder_model, decoder_state_input_h, decoder_state_input_c, decoder_states_inputs,\n",
    "     decoder_inputs_single, decoder_inputs_single_x, decoder_states, decoder_model)"
   ]
  },
  {
   "cell_type": "markdown",
   "id": "cd2db4ce-8fff-4861-9bd8-c395bce33c13",
   "metadata": {},
   "source": [
    "## With Hindi Embedding - Trainable"
   ]
  },
  {
   "cell_type": "code",
   "execution_count": 19,
   "id": "76b93dc1-e907-4543-adbc-b97ebb734fa7",
   "metadata": {
    "tags": []
   },
   "outputs": [],
   "source": [
    "embedding_layer = Embedding(\n",
    "    input_dim=num_words, #V = vocab size\n",
    "    output_dim=EMBEDDING_DIM, #D = dimensionality, Emedding = VxD\n",
    "    weights=[embedding_matrix],\n",
    "    trainable=True\n",
    ")\n",
    "\n",
    "embedding_layer_decoder = Embedding(\n",
    "    input_dim=num_words_hindi, #V = vocab size\n",
    "    output_dim=EMBEDDING_DIM, #D = dimensionality, Emedding = VxD\n",
    "    weights=[embedding_matrix_hindi],\n",
    "    trainable=True\n",
    ")\n",
    "\n",
    "encoding_inputs_placeholder = Input(shape=(max_len_input,)) #input = NXT, T = max_len_input\n",
    "x = embedding_layer(encoding_inputs_placeholder)\n",
    "encoder = LSTM(LATENT_DIM, return_state=True, dropout=0.5)\n",
    "encoder_outputs, h, c = encoder(x)\n",
    "\n",
    "encoder_states = [h, c]\n",
    "\n",
    "decoder_inputs_placeholder = Input(shape=(max_len_target, ))\n",
    "# decoder_embedding = Embedding(num_words_output, LATENT_DIM)\n",
    "decoder_inputs_x = embedding_layer_decoder(decoder_inputs_placeholder)\n",
    "\n",
    "decoder_lstm = LSTM(LATENT_DIM, return_sequences=True, return_state=True, dropout=0.5)\n",
    "decoder_outputs, _, _ = decoder_lstm(\n",
    "    decoder_inputs_x,\n",
    "    initial_state=encoder_states\n",
    ")\n",
    "\n",
    "decoder_dense = Dense(num_words_output, activation='softmax')\n",
    "decoder_outputs = decoder_dense(decoder_outputs)\n",
    "\n",
    "model = Model([encoding_inputs_placeholder, decoder_inputs_placeholder], decoder_outputs)\n",
    "model.compile(\n",
    "    optimizer='rmsprop',\n",
    "    loss='categorical_crossentropy',\n",
    "    metrics=['accuracy']\n",
    ")\n",
    "r4 =  model.fit(\n",
    "    [encoder_inputs, decoder_inputs], decoder_targets_one_hot,\n",
    "    batch_size=BATCH_SIZE,\n",
    "    epochs=EPOCHS,\n",
    "    validation_split=0.2,\n",
    "    workers=8,\n",
    "    verbose=0\n",
    ")\n",
    "\n",
    "encoder_model = Model(encoding_inputs_placeholder, encoder_states)\n",
    "\n",
    "decoder_state_input_h = Input(shape=(LATENT_DIM,))\n",
    "decoder_state_input_c = Input(shape=(LATENT_DIM,))\n",
    "decoder_states_inputs = [decoder_state_input_h, decoder_state_input_c]\n",
    "\n",
    "decoder_inputs_single = Input(shape=(1,))\n",
    "decoder_inputs_single_x = embedding_layer_decoder(decoder_inputs_single)\n",
    "\n",
    "decoder_outputs, h, c = decoder_lstm(\n",
    "    decoder_inputs_single_x,\n",
    "    initial_state=decoder_states_inputs,\n",
    ")\n",
    "\n",
    "decoder_states = [h, c]\n",
    "decoder_outputs = decoder_dense(decoder_outputs)\n",
    "\n",
    "decoder_model = Model(\n",
    "    [decoder_inputs_single] + decoder_states_inputs,\n",
    "    [decoder_outputs] + decoder_states\n",
    ")"
   ]
  },
  {
   "cell_type": "code",
   "execution_count": 20,
   "id": "405c5b3e-4ae0-44ac-9176-a044130416cb",
   "metadata": {
    "tags": []
   },
   "outputs": [
    {
     "data": {
      "text/plain": [
       "<matplotlib.legend.Legend at 0x231569a7190>"
      ]
     },
     "execution_count": 20,
     "metadata": {},
     "output_type": "execute_result"
    },
    {
     "data": {
      "image/png": "[encoded data removed]",
      "text/plain": [
       "<Figure size 640x480 with 1 Axes>"
      ]
     },
     "metadata": {},
     "output_type": "display_data"
    }
   ],
   "source": [
    "\n",
    "plt.plot(r4.history['loss'], label='loss')\n",
    "plt.plot(r4.history['val_loss'], label='val_loss')\n",
    "plt.legend()"
   ]
  },
  {
   "cell_type": "code",
   "execution_count": 21,
   "id": "f97295b8-2d4b-4b06-b83b-ccf7fe9e80fd",
   "metadata": {
    "tags": []
   },
   "outputs": [
    {
     "data": {
      "text/plain": [
       "<matplotlib.legend.Legend at 0x23107f53160>"
      ]
     },
     "execution_count": 21,
     "metadata": {},
     "output_type": "execute_result"
    },
    {
     "data": {
      "image/png": "[encoded data removed]",
      "text/plain": [
       "<Figure size 640x480 with 1 Axes>"
      ]
     },
     "metadata": {},
     "output_type": "display_data"
    }
   ],
   "source": [
    "\n",
    "plt.plot(r4.history['accuracy'], label='accuracy')\n",
    "plt.plot(r4.history['val_accuracy'], label='val_accuracy')\n",
    "plt.legend()"
   ]
  },
  {
   "cell_type": "code",
   "execution_count": 25,
   "id": "36afb977-daa9-49ee-b1e8-c32c2ac1e14d",
   "metadata": {
    "tags": []
   },
   "outputs": [
    {
     "name": "stdout",
     "output_type": "stream",
     "text": [
      "===================\n",
      "Input :  I don't want your pity.\n",
      "Translation :  मुझे अपना दया नहीं सकता।\n",
      "===================\n",
      "Input :  The accident was due to his careless driving.\n",
      "Translation :  वह जहाँ भी जाए, भी वजह से नहीं था।\n",
      "===================\n",
      "Input :  Who knows?\n",
      "Translation :  किसे पता है?\n",
      "===================\n",
      "Input :  We went for a walk in the forest.\n",
      "Translation :  हम सब घर में पहुँच गए।\n",
      "===================\n",
      "Input :  I wish I could help.\n",
      "Translation :  मुझे मदद कर सकता हूँ।\n"
     ]
    }
   ],
   "source": [
    "random_idx = [800, 2715, 53, 1970, 523]\n",
    "\n",
    "for i in random_idx :\n",
    "    input_seq = encoder_inputs[i:i+1]\n",
    "    translation = decode_sequence(input_seq)\n",
    "    print('===================')\n",
    "    print('Input : ', input_texts[i])\n",
    "    print('Translation : ', translation)\n",
    "    \n",
    "    \n",
    "del (encoding_inputs_placeholder, x, encoder, encoder_outputs, h, c, encoder_states,\n",
    "     decoder_inputs_placeholder, decoder_inputs_x, decoder_lstm, decoder_outputs, decoder_dense,\n",
    "     model, encoder_model, decoder_state_input_h, decoder_state_input_c, decoder_states_inputs,\n",
    "     decoder_inputs_single, decoder_inputs_single_x, decoder_states, decoder_model)"
   ]
  },
  {
   "cell_type": "code",
   "execution_count": null,
   "id": "17d64aa4-06cd-4a06-95e1-f36c461b2677",
   "metadata": {},
   "outputs": [],
   "source": []
  }
 ],
 "metadata": {
  "kernelspec": {
   "display_name": "data_science",
   "language": "python",
   "name": "data_science"
  },
  "language_info": {
   "codemirror_mode": {
    "name": "ipython",
    "version": 3
   },
   "file_extension": ".py",
   "mimetype": "text/x-python",
   "name": "python",
   "nbconvert_exporter": "python",
   "pygments_lexer": "ipython3",
   "version": "3.10.13"
  }
 },
 "nbformat": 4,
 "nbformat_minor": 5
}
