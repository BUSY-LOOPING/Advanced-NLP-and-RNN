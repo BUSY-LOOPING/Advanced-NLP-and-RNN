{
 "cells": [
  {
   "cell_type": "code",
   "execution_count": 4,
   "id": "90bf8823-8b5d-488e-a26e-f30dcaee7f4e",
   "metadata": {
    "tags": []
   },
   "outputs": [],
   "source": [
    "import numpy as np\n",
    "from keras.layers import Dense, LSTM, Bidirectional, Input\n",
    "from keras.models import Model"
   ]
  },
  {
   "cell_type": "code",
   "execution_count": 2,
   "id": "b5250c17-ed1c-42e8-a395-f6d3d27cd61c",
   "metadata": {
    "tags": []
   },
   "outputs": [],
   "source": [
    "T = 8\n",
    "D = 2\n",
    "M = 3"
   ]
  },
  {
   "cell_type": "code",
   "execution_count": 3,
   "id": "c0745863-c6c2-436d-87ff-171fa81b336f",
   "metadata": {
    "tags": []
   },
   "outputs": [],
   "source": [
    "X = np.random.randn(1, T, D)"
   ]
  },
  {
   "cell_type": "code",
   "execution_count": 5,
   "id": "84c7068d-4541-42b9-9136-726edbb6d35f",
   "metadata": {
    "tags": []
   },
   "outputs": [
    {
     "name": "stdout",
     "output_type": "stream",
     "text": [
      "Model: \"model\"\n",
      "_________________________________________________________________\n",
      " Layer (type)                Output Shape              Param #   \n",
      "=================================================================\n",
      " input_1 (InputLayer)        [(None, 8, 2)]            0         \n",
      "                                                                 \n",
      " bidirectional (Bidirectiona  [(None, 8, 6),           144       \n",
      " l)                           (None, 3),                         \n",
      "                              (None, 3),                         \n",
      "                              (None, 3),                         \n",
      "                              (None, 3)]                         \n",
      "                                                                 \n",
      "=================================================================\n",
      "Total params: 144\n",
      "Trainable params: 144\n",
      "Non-trainable params: 0\n",
      "_________________________________________________________________\n"
     ]
    }
   ],
   "source": [
    "i = Input(shape=(T, D))\n",
    "x = Bidirectional(LSTM(M, return_sequences=True, return_state=True)) (i)\n",
    "model = Model(i, x)\n",
    "model.summary()"
   ]
  },
  {
   "cell_type": "code",
   "execution_count": 7,
   "id": "221c265e-8795-4376-b62b-e4106145f18a",
   "metadata": {
    "tags": []
   },
   "outputs": [
    {
     "name": "stdout",
     "output_type": "stream",
     "text": [
      "1/1 [==============================] - 0s 26ms/step\n",
      "o : [[[-0.0732138  -0.03898498  0.12474695  0.16232866  0.3256364\n",
      "   -0.14574906]\n",
      "  [-0.05308531 -0.06197431  0.0793132   0.24548261  0.18279214\n",
      "   -0.17264962]\n",
      "  [-0.08687913 -0.06698603  0.13209099  0.19414422  0.2563753\n",
      "   -0.1888268 ]\n",
      "  [-0.03467483 -0.08315455 -0.04663953  0.22249596  0.14363493\n",
      "   -0.24431811]\n",
      "  [-0.18030764 -0.04987513  0.16658887  0.15435307  0.19561243\n",
      "   -0.04276629]\n",
      "  [-0.09985586  0.12244944  0.09607871  0.19628912  0.10203517\n",
      "    0.03112194]\n",
      "  [-0.1171184  -0.02573991  0.25302953  0.12667552  0.20751025\n",
      "   -0.1045303 ]\n",
      "  [-0.08478541 -0.05671586  0.15808643  0.01954039  0.01756424\n",
      "   -0.03161947]]]\n",
      "h1 : [[-0.08478541 -0.05671586  0.15808643]]\n",
      "c1 : [[-0.17673106 -0.11895923  0.2885357 ]]\n",
      "h2 : [[ 0.16232866  0.3256364  -0.14574906]]\n",
      "c2 : [[ 1.0051647   0.5275543  -0.50057787]]\n"
     ]
    }
   ],
   "source": [
    "o, h1, c1, h2, c2 = model.predict(X)\n",
    "print(f'o : {o}')\n",
    "print(f'h1 : {h1}')\n",
    "print(f'c1 : {c1}')\n",
    "print(f'h2 : {h2}')\n",
    "print(f'c2 : {c2}')"
   ]
  },
  {
   "cell_type": "code",
   "execution_count": 8,
   "id": "dff6c079-c6ba-4a5e-8aa5-39869cfec4ee",
   "metadata": {
    "tags": []
   },
   "outputs": [
    {
     "name": "stdout",
     "output_type": "stream",
     "text": [
      "Model: \"model_1\"\n",
      "_________________________________________________________________\n",
      " Layer (type)                Output Shape              Param #   \n",
      "=================================================================\n",
      " input_2 (InputLayer)        [(None, 8, 2)]            0         \n",
      "                                                                 \n",
      " bidirectional_1 (Bidirectio  [(None, 6),              144       \n",
      " nal)                         (None, 3),                         \n",
      "                              (None, 3),                         \n",
      "                              (None, 3),                         \n",
      "                              (None, 3)]                         \n",
      "                                                                 \n",
      "=================================================================\n",
      "Total params: 144\n",
      "Trainable params: 144\n",
      "Non-trainable params: 0\n",
      "_________________________________________________________________\n"
     ]
    }
   ],
   "source": [
    "i = Input(shape=(T, D))\n",
    "x = Bidirectional(LSTM(M, return_sequences=False, return_state=True)) (i)\n",
    "model = Model(i, x)\n",
    "model.summary()"
   ]
  },
  {
   "cell_type": "code",
   "execution_count": 9,
   "id": "d8ca2b90-06bf-4699-8eb9-b1532b41cab6",
   "metadata": {
    "tags": []
   },
   "outputs": [
    {
     "name": "stdout",
     "output_type": "stream",
     "text": [
      "1/1 [==============================] - 1s 809ms/step\n",
      "o : [[-0.20391141  0.27785197  0.0702133  -0.31549343 -0.16152437 -0.00430799]]\n",
      "h1 : [[-0.20391141  0.27785197  0.0702133 ]]\n",
      "c1 : [[-0.5628024   0.55673695  0.14970209]]\n",
      "h2 : [[-0.31549343 -0.16152437 -0.00430799]]\n",
      "c2 : [[-1.0420687  -0.5859603  -0.01091022]]\n"
     ]
    }
   ],
   "source": [
    "o, h1, c1, h2, c2 = model.predict(X)\n",
    "print(f'o : {o}')\n",
    "print(f'h1 : {h1}')\n",
    "print(f'c1 : {c1}')\n",
    "print(f'h2 : {h2}')\n",
    "print(f'c2 : {c2}')"
   ]
  },
  {
   "cell_type": "code",
   "execution_count": null,
   "id": "6f47d20d-2a36-41c0-8068-08dde4c7c75c",
   "metadata": {},
   "outputs": [],
   "source": []
  }
 ],
 "metadata": {
  "kernelspec": {
   "display_name": "data_science",
   "language": "python",
   "name": "data_science"
  },
  "language_info": {
   "codemirror_mode": {
    "name": "ipython",
    "version": 3
   },
   "file_extension": ".py",
   "mimetype": "text/x-python",
   "name": "python",
   "nbconvert_exporter": "python",
   "pygments_lexer": "ipython3",
   "version": "3.10.13"
  }
 },
 "nbformat": 4,
 "nbformat_minor": 5
}
